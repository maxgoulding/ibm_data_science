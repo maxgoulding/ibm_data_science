{
    "cells": [
        {
            "cell_type": "markdown",
            "metadata": {
                "collapsed": true
            },
            "source": "# Introduction"
        },
        {
            "cell_type": "markdown",
            "metadata": {},
            "source": "Previoulsy in the Applied Data Science Capstone project we compared neighbourhoods within both New York and Toronto. In this project we are going to compare neighbourhoods between 2 different cities - New York, USA and London, UK\n\nIn New York there are 306 different neighbourhoods across 5 different boroughs. There are similarities between the neighbourhoods within each of these boroughs.\n\nIn particular, I want to be able to compare area from another city to decide which borough that area is most similar to. For example, is Toronto's Scarbourgh Village neighbourhood most similar to neighbourhoods found in the Bronx, Brooklyn, Manhatten, Queens or Staten Island boroughs in New York.\n\nAs I am from UK, I will be comparing area in London, UK to New York, USA."
        },
        {
            "cell_type": "markdown",
            "metadata": {},
            "source": "<em> Scenario </em>\n\nImagine I am a Data Scientist who currently works for Google in New York, work at the Google offices in New York which are based Chelsea, Manhatten and live in the borough of Manhatten.\n\nI have recently been asked to relocate for work to Google's offices near Kings Cross in London, UK. However I currently know nothing about London or what it is like as a place to live. Before deciding where I would like to move to, I would like to first narrow down my options. \n\nEven though I don't know anything about London I know that I enjoy living in the Manhatten area of New York and would therefore like to know what areas of London are most similar to Manhatten by using available Foursquare API data. In addition, I'd also not like to be too far from my office near Kings Cross.\n\nWe first look at all areas of London to establish which New York boroughs they are most similar to. Then from the areas which are most similar to Manhatten, we will then establish how far from the new Google offices near King Cross they are to establish a shortlist of 3 areas I should consider living in when I moved to London."
        },
        {
            "cell_type": "markdown",
            "metadata": {},
            "source": "<em> Notes </em>\n\nThis could be a comparison of any two cities where the data is readily available. London and New York are just a demonstation of it being successfully applied.\n\nMoreover, this general idea could be used in a different context, for example a business that has many succesful stores in Manhatten that is looking to expand to London and is unsure of the best area to locate itself."
        },
        {
            "cell_type": "markdown",
            "metadata": {},
            "source": "# Data"
        },
        {
            "cell_type": "markdown",
            "metadata": {},
            "source": "### New York Neighbourhood Data\n\nThe data for New York's borough and neighbourhood data will come from, used in the previous practicals in the Applied Data Science Capstone\n\nhttps://cf-courses-data.s3.us.cloud-object-storage.appdomain.cloud/IBMDeveloperSkillsNetwork-DS0701EN-SkillsNetwork/labs/newyork_data.json\n\nThis dataset contains every Neighboorhood in New York, the borough they are in as well as their longitude and latitude.\n\nThe dataframe has 5 boroughs and 306 unique neighborhoods."
        },
        {
            "cell_type": "code",
            "execution_count": 1,
            "metadata": {},
            "outputs": [
                {
                    "name": "stdout",
                    "output_type": "stream",
                    "text": "Total population of New York : 8336817\nAverage population of New York Borough: 1667363.4\nAverage population of New York Neighbourhood : 27244.5\n"
                },
                {
                    "data": {
                        "text/html": "<div>\n<style scoped>\n    .dataframe tbody tr th:only-of-type {\n        vertical-align: middle;\n    }\n\n    .dataframe tbody tr th {\n        vertical-align: top;\n    }\n\n    .dataframe thead th {\n        text-align: right;\n    }\n</style>\n<table border=\"1\" class=\"dataframe\">\n  <thead>\n    <tr style=\"text-align: right;\">\n      <th></th>\n      <th>Borough</th>\n      <th>Population Estimate (2019)</th>\n    </tr>\n  </thead>\n  <tbody>\n    <tr>\n      <th>0</th>\n      <td>The Bronx</td>\n      <td>1418207</td>\n    </tr>\n    <tr>\n      <th>1</th>\n      <td>Brooklyn</td>\n      <td>2559903</td>\n    </tr>\n    <tr>\n      <th>2</th>\n      <td>Manhattan</td>\n      <td>1628706</td>\n    </tr>\n    <tr>\n      <th>3</th>\n      <td>Queens</td>\n      <td>2253858</td>\n    </tr>\n    <tr>\n      <th>4</th>\n      <td>Staten Island</td>\n      <td>476143</td>\n    </tr>\n  </tbody>\n</table>\n</div>",
                        "text/plain": "         Borough Population Estimate (2019)\n0      The Bronx                    1418207\n1       Brooklyn                    2559903\n2      Manhattan                    1628706\n3         Queens                    2253858\n4  Staten Island                     476143"
                    },
                    "execution_count": 1,
                    "metadata": {},
                    "output_type": "execute_result"
                }
            ],
            "source": "import pandas as pd\n\ndf = pd.read_html('https://en.wikipedia.org/wiki/Boroughs_of_New_York_City')\n\n#Select correct dataframe (0th) from list of dataframes\ndf = df[0]\n\n#Drop multiindex names from columns\ndf.columns = df.columns.droplevel().droplevel()\n\n#Remove bottom 2 rows as summary and comments\ndf = df[:-3]\n\n#Rename columns as population estimte\ndf.rename(columns={'Estimate (2019)[3]':'Population Estimate (2019)'}, inplace=True)\n\nprint('Total population of New York : '+ str(df['Population Estimate (2019)'].astype(int).sum()))\nprint('Average population of New York Borough: '+ str(df['Population Estimate (2019)'].astype(int).mean()))\n#Divide total population by number of neighbourhoods\nprint('Average population of New York Neighbourhood : '+ str(df['Population Estimate (2019)'].astype(int).sum()/306))\n\n#Show the relevent columns\ndf[['Borough', 'Population Estimate (2019)']]"
        },
        {
            "cell_type": "markdown",
            "metadata": {},
            "source": "<strong> The population of each of these boroughs is approximately 1,700,000 people per borough \n\nThe population of each of these boroughs is approximately 27,000 people per neighbourhood </strong>"
        },
        {
            "cell_type": "markdown",
            "metadata": {},
            "source": "### London Borough Data\n\nThe data for Londons boroughs and data will come from data scraped from wikipedia (like we did with Toronto)\n\nhttps://en.wikipedia.org/wiki/List_of_London_boroughs\n\nThis dataset contains every Borough in London as well as the longitude and latitude coordinate (which has to be wrangled into the correct form). There are other features which are not required\n\nThe dataframe has 32 boroughs (and we do not include the City of London, as it is not a borough)"
        },
        {
            "cell_type": "markdown",
            "metadata": {},
            "source": "Data scraped from https://en.wikipedia.org/wiki/List_of_London_boroughs"
        },
        {
            "cell_type": "code",
            "execution_count": 2,
            "metadata": {},
            "outputs": [
                {
                    "name": "stdout",
                    "output_type": "stream",
                    "text": "Total population of London : 8408887\nAverage population of London Borough: 262777.71875\n"
                },
                {
                    "data": {
                        "text/html": "<div>\n<style scoped>\n    .dataframe tbody tr th:only-of-type {\n        vertical-align: middle;\n    }\n\n    .dataframe tbody tr th {\n        vertical-align: top;\n    }\n\n    .dataframe thead th {\n        text-align: right;\n    }\n</style>\n<table border=\"1\" class=\"dataframe\">\n  <thead>\n    <tr style=\"text-align: right;\">\n      <th></th>\n      <th>Borough</th>\n      <th>Population Estimate (2013)</th>\n    </tr>\n  </thead>\n  <tbody>\n    <tr>\n      <th>0</th>\n      <td>Barking and Dagenham [note 1]</td>\n      <td>194352</td>\n    </tr>\n    <tr>\n      <th>1</th>\n      <td>Barnet</td>\n      <td>369088</td>\n    </tr>\n    <tr>\n      <th>2</th>\n      <td>Bexley</td>\n      <td>236687</td>\n    </tr>\n    <tr>\n      <th>3</th>\n      <td>Brent</td>\n      <td>317264</td>\n    </tr>\n    <tr>\n      <th>4</th>\n      <td>Bromley</td>\n      <td>317899</td>\n    </tr>\n    <tr>\n      <th>5</th>\n      <td>Camden</td>\n      <td>229719</td>\n    </tr>\n    <tr>\n      <th>6</th>\n      <td>Croydon</td>\n      <td>372752</td>\n    </tr>\n    <tr>\n      <th>7</th>\n      <td>Ealing</td>\n      <td>342494</td>\n    </tr>\n    <tr>\n      <th>8</th>\n      <td>Enfield</td>\n      <td>320524</td>\n    </tr>\n    <tr>\n      <th>9</th>\n      <td>Greenwich [note 2]</td>\n      <td>264008</td>\n    </tr>\n    <tr>\n      <th>10</th>\n      <td>Hackney</td>\n      <td>257379</td>\n    </tr>\n    <tr>\n      <th>11</th>\n      <td>Hammersmith and Fulham [note 4]</td>\n      <td>178685</td>\n    </tr>\n    <tr>\n      <th>12</th>\n      <td>Haringey</td>\n      <td>263386</td>\n    </tr>\n    <tr>\n      <th>13</th>\n      <td>Harrow</td>\n      <td>243372</td>\n    </tr>\n    <tr>\n      <th>14</th>\n      <td>Havering</td>\n      <td>242080</td>\n    </tr>\n    <tr>\n      <th>15</th>\n      <td>Hillingdon</td>\n      <td>286806</td>\n    </tr>\n    <tr>\n      <th>16</th>\n      <td>Hounslow</td>\n      <td>262407</td>\n    </tr>\n    <tr>\n      <th>17</th>\n      <td>Islington</td>\n      <td>215667</td>\n    </tr>\n    <tr>\n      <th>18</th>\n      <td>Kensington and Chelsea</td>\n      <td>155594</td>\n    </tr>\n    <tr>\n      <th>19</th>\n      <td>Kingston upon Thames</td>\n      <td>166793</td>\n    </tr>\n    <tr>\n      <th>20</th>\n      <td>Lambeth</td>\n      <td>314242</td>\n    </tr>\n    <tr>\n      <th>21</th>\n      <td>Lewisham</td>\n      <td>286180</td>\n    </tr>\n    <tr>\n      <th>22</th>\n      <td>Merton</td>\n      <td>203223</td>\n    </tr>\n    <tr>\n      <th>23</th>\n      <td>Newham</td>\n      <td>318227</td>\n    </tr>\n    <tr>\n      <th>24</th>\n      <td>Redbridge</td>\n      <td>288272</td>\n    </tr>\n    <tr>\n      <th>25</th>\n      <td>Richmond upon Thames</td>\n      <td>191365</td>\n    </tr>\n    <tr>\n      <th>26</th>\n      <td>Southwark</td>\n      <td>298464</td>\n    </tr>\n    <tr>\n      <th>27</th>\n      <td>Sutton</td>\n      <td>195914</td>\n    </tr>\n    <tr>\n      <th>28</th>\n      <td>Tower Hamlets</td>\n      <td>272890</td>\n    </tr>\n    <tr>\n      <th>29</th>\n      <td>Waltham Forest</td>\n      <td>265797</td>\n    </tr>\n    <tr>\n      <th>30</th>\n      <td>Wandsworth</td>\n      <td>310516</td>\n    </tr>\n    <tr>\n      <th>31</th>\n      <td>Westminster</td>\n      <td>226841</td>\n    </tr>\n  </tbody>\n</table>\n</div>",
                        "text/plain": "                            Borough  Population Estimate (2013)\n0     Barking and Dagenham [note 1]                      194352\n1                            Barnet                      369088\n2                            Bexley                      236687\n3                             Brent                      317264\n4                           Bromley                      317899\n5                            Camden                      229719\n6                           Croydon                      372752\n7                            Ealing                      342494\n8                           Enfield                      320524\n9                Greenwich [note 2]                      264008\n10                          Hackney                      257379\n11  Hammersmith and Fulham [note 4]                      178685\n12                         Haringey                      263386\n13                           Harrow                      243372\n14                         Havering                      242080\n15                       Hillingdon                      286806\n16                         Hounslow                      262407\n17                        Islington                      215667\n18           Kensington and Chelsea                      155594\n19             Kingston upon Thames                      166793\n20                          Lambeth                      314242\n21                         Lewisham                      286180\n22                           Merton                      203223\n23                           Newham                      318227\n24                        Redbridge                      288272\n25             Richmond upon Thames                      191365\n26                        Southwark                      298464\n27                           Sutton                      195914\n28                    Tower Hamlets                      272890\n29                   Waltham Forest                      265797\n30                       Wandsworth                      310516\n31                      Westminster                      226841"
                    },
                    "execution_count": 2,
                    "metadata": {},
                    "output_type": "execute_result"
                }
            ],
            "source": "df2 = pd.read_html('https://en.wikipedia.org/wiki/List_of_London_boroughs')\n\n#Select correct dataframe (0th) from list of dataframes\ndf2 = df2[0]\n\n#Rename columns as population estimte\ndf2.rename(columns={'Population (2013 est)[1]':'Population Estimate (2013)'}, inplace=True)\n\nprint('Total population of London : '+str(df2['Population Estimate (2013)'].sum()))\nprint('Average population of London Borough: '+str(df2['Population Estimate (2013)'].mean()))\n\n#Show the relevent columns\ndf2[['Borough', 'Population Estimate (2013)']]"
        },
        {
            "cell_type": "markdown",
            "metadata": {},
            "source": "<strong>The population of each of these boroughs is approximately 260,000 people per borough</strong>"
        },
        {
            "cell_type": "markdown",
            "metadata": {},
            "source": "### New York 'Boroughs' and London 'Boroughs' are not the same - would be like comparing apples and oranges"
        },
        {
            "cell_type": "markdown",
            "metadata": {},
            "source": "We can see by comparing average population sizes of New York 'boroughs' and London 'boroughs' that they are not the same size as one another. In particular, a New York borough has approximately 6 to 7 times the population of a London Borough (~1,700,000 and ~260,000 respectively). As such, the boroughs are not comparable. A New York borough is larger than than a London borough.\n\nHowever, we can also that we can see by comparing average population sizes of a New York neighbourhoods and London boroughs they are not the same size as one another. In particular, a London borough has approximately 10 times the population of a New York Borough (~260,000 and ~27,000 respectively). A London Borough is larger than than a New York Borough.\n\nIn particular, it worth noting that a London Borough is somewhere in between the size of a New York neighbourhood and borough. Consequently, It will be crucial to normalise features to allow for fair comparison."
        },
        {
            "cell_type": "markdown",
            "metadata": {},
            "source": "### Similarity data - Foursquare API"
        },
        {
            "cell_type": "markdown",
            "metadata": {},
            "source": "We will be utilizing the Foursquare API to establish the features of the neighborhoods in New York. We will collect the types of venues within each neighbourhood. We also use the Foursquare API to establish the features of Boroughs in London. We will collect the types of venues within each borough.\n\nTo encode a venue list from the Foursquare API into features we will use one-hot encoding over the venues type in both London Boroughs and New York neighbourhoods, this will ensure features between the two data sets are the same (crucial for comparison later). \n\nAfter one-hot encoding, we then want to group by New York Neighbourhood and London Boroughs by taking the mean of the frequency of occurrence of each category, to normalise features. We can call this data our feature space (X)\n\nAt this point we should clearly label our New York Neighbourhood data for train and cross-validation data and London Borough data as test data (X_test).\n\nTo the New York Neighbourhood feautre data from Foursquare (X) we can add New York Borough labels which have been given an numerical encoding (y), as well splitting it into train (X_train, y_train) and cross-validation datasets (X_cv, y_cv)\n(stratified by Borough, 70% - train and 30% Cross Validation).\n\nI then to use the K-Nearest Neighbour Classification model on the New York Neighbourhood data with Borough label to train a Borough classification model.\n(i.e. given a Neighbourhoods features it should be able to classify what Borough it belongs to)\n\nWe will use the 30% cross-validation set from New York data to establish the best value for K (the number of nearest neighbours), by finding the best accuracy for a range of possible K values.\n\nI will then use the test data for London Boroughs to classify them according to what New York Boroughs they are most similar to.\n\nThen it simple to restrict data to London Boroughs most similar to Manhatten."
        },
        {
            "cell_type": "markdown",
            "metadata": {},
            "source": "### Distance from new Office"
        },
        {
            "cell_type": "markdown",
            "metadata": {},
            "source": "The current Google office in London can be found on Google Maps\nhttps://www.google.com/maps/place/Google+UK/@51.5332609,-0.1281919,17z/data=!3m1!4b1!4m5!3m4!1s0x48761b3c54efa6e1:0xc7053ab04745950d!8m2!3d51.5332609!4d-0.1260032\n\nRight clicking on the pop-up and clicking What's here reveal the longitude and latitude for the building\nLatitude = 51.5332609\nLongitude = -0.1260032\n\nUsing the Longatude and Latitude in the London data set allows us to calculate the birdseye distance from the Borough to the office. We will then be able to sort our list of London Boroughs like Manhatten by this distance to give a shortlist of 3 London Boroughs which are most like Manhatten and are close to the Google office in London."
        },
        {
            "cell_type": "markdown",
            "metadata": {},
            "source": "# Methodology and Results"
        },
        {
            "cell_type": "markdown",
            "metadata": {},
            "source": "### Import necessary Libraries"
        },
        {
            "cell_type": "code",
            "execution_count": 105,
            "metadata": {},
            "outputs": [
                {
                    "name": "stdout",
                    "output_type": "stream",
                    "text": "Libraries imported.\n"
                }
            ],
            "source": "import numpy as np # library to handle data in a vectorized manner\n\nimport pandas as pd # library for data analsysis\npd.set_option('display.max_columns', 25)\npd.set_option('display.max_rows', 50)\n\nimport json # library to handle JSON files\n\n#!pip install geopy # uncomment this line if you haven't completed the Foursquare API lab\nfrom geopy.geocoders import Nominatim # convert an address into latitude and longitude values\n\nimport requests # library to handle requests\nfrom pandas.io.json import json_normalize # tranform JSON file into a pandas dataframe\n\n# Matplotlib and associated plotting modules\nimport matplotlib.pyplot as plt\nfrom matplotlib.ticker import NullFormatter\nimport matplotlib.cm as cm\nimport matplotlib.colors as colors\nimport matplotlib.ticker as ticker\n\n# import k-means from clustering stage\nfrom sklearn.neighbors import KNeighborsClassifier\n\n# import metrics from sklearn\nfrom sklearn import metrics\n\n#!pip install folium # uncomment this line if you already have installed\nimport folium # map rendering library\n\nprint('Libraries imported.')"
        },
        {
            "cell_type": "markdown",
            "metadata": {},
            "source": "### New York Neighbourhood Data"
        },
        {
            "cell_type": "markdown",
            "metadata": {},
            "source": "Download New York Neighbourhood data"
        },
        {
            "cell_type": "code",
            "execution_count": 5,
            "metadata": {},
            "outputs": [
                {
                    "name": "stdout",
                    "output_type": "stream",
                    "text": "Data downloaded!\n"
                }
            ],
            "source": "!wget -q -O 'newyork_data.json' https://cf-courses-data.s3.us.cloud-object-storage.appdomain.cloud/IBMDeveloperSkillsNetwork-DS0701EN-SkillsNetwork/labs/newyork_data.json\nprint('Data downloaded!')"
        },
        {
            "cell_type": "markdown",
            "metadata": {},
            "source": "Next, let's load the data."
        },
        {
            "cell_type": "code",
            "execution_count": 6,
            "metadata": {},
            "outputs": [],
            "source": "with open('newyork_data.json') as json_data:\n    newyork_data = json.load(json_data)"
        },
        {
            "cell_type": "markdown",
            "metadata": {},
            "source": "Construct data frame for neighbourhood data"
        },
        {
            "cell_type": "code",
            "execution_count": 7,
            "metadata": {},
            "outputs": [],
            "source": "neighborhoods_data = newyork_data['features']\n\n# define the dataframe columns\ncolumn_names = ['Borough', 'Neighborhood', 'Latitude', 'Longitude'] \n\n# instantiate the dataframe\nny_neighborhoods = pd.DataFrame(columns=column_names)\n\n#Then let's loop through the data and fill the dataframe one row at a time.\nfor data in neighborhoods_data:\n    borough = neighborhood_name = data['properties']['borough'] \n    neighborhood_name = data['properties']['name']\n        \n    neighborhood_latlon = data['geometry']['coordinates']\n    neighborhood_lat = neighborhood_latlon[1]\n    neighborhood_lon = neighborhood_latlon[0]\n    \n    ny_neighborhoods = ny_neighborhoods.append({'Borough': borough,\n                                                'Neighborhood': neighborhood_name,\n                                                'Latitude': neighborhood_lat,\n                                                'Longitude': neighborhood_lon}, ignore_index=True)"
        },
        {
            "cell_type": "markdown",
            "metadata": {},
            "source": "Lets examine the data"
        },
        {
            "cell_type": "code",
            "execution_count": 8,
            "metadata": {},
            "outputs": [
                {
                    "data": {
                        "text/html": "<div>\n<style scoped>\n    .dataframe tbody tr th:only-of-type {\n        vertical-align: middle;\n    }\n\n    .dataframe tbody tr th {\n        vertical-align: top;\n    }\n\n    .dataframe thead th {\n        text-align: right;\n    }\n</style>\n<table border=\"1\" class=\"dataframe\">\n  <thead>\n    <tr style=\"text-align: right;\">\n      <th></th>\n      <th>Borough</th>\n      <th>Neighborhood</th>\n      <th>Latitude</th>\n      <th>Longitude</th>\n    </tr>\n  </thead>\n  <tbody>\n    <tr>\n      <th>0</th>\n      <td>Bronx</td>\n      <td>Wakefield</td>\n      <td>40.894705</td>\n      <td>-73.847201</td>\n    </tr>\n    <tr>\n      <th>1</th>\n      <td>Bronx</td>\n      <td>Co-op City</td>\n      <td>40.874294</td>\n      <td>-73.829939</td>\n    </tr>\n    <tr>\n      <th>2</th>\n      <td>Bronx</td>\n      <td>Eastchester</td>\n      <td>40.887556</td>\n      <td>-73.827806</td>\n    </tr>\n    <tr>\n      <th>3</th>\n      <td>Bronx</td>\n      <td>Fieldston</td>\n      <td>40.895437</td>\n      <td>-73.905643</td>\n    </tr>\n    <tr>\n      <th>4</th>\n      <td>Bronx</td>\n      <td>Riverdale</td>\n      <td>40.890834</td>\n      <td>-73.912585</td>\n    </tr>\n    <tr>\n      <th>...</th>\n      <td>...</td>\n      <td>...</td>\n      <td>...</td>\n      <td>...</td>\n    </tr>\n    <tr>\n      <th>301</th>\n      <td>Manhattan</td>\n      <td>Hudson Yards</td>\n      <td>40.756658</td>\n      <td>-74.000111</td>\n    </tr>\n    <tr>\n      <th>302</th>\n      <td>Queens</td>\n      <td>Hammels</td>\n      <td>40.587338</td>\n      <td>-73.805530</td>\n    </tr>\n    <tr>\n      <th>303</th>\n      <td>Queens</td>\n      <td>Bayswater</td>\n      <td>40.611322</td>\n      <td>-73.765968</td>\n    </tr>\n    <tr>\n      <th>304</th>\n      <td>Queens</td>\n      <td>Queensbridge</td>\n      <td>40.756091</td>\n      <td>-73.945631</td>\n    </tr>\n    <tr>\n      <th>305</th>\n      <td>Staten Island</td>\n      <td>Fox Hills</td>\n      <td>40.617311</td>\n      <td>-74.081740</td>\n    </tr>\n  </tbody>\n</table>\n<p>306 rows \u00d7 4 columns</p>\n</div>",
                        "text/plain": "           Borough  Neighborhood   Latitude  Longitude\n0            Bronx     Wakefield  40.894705 -73.847201\n1            Bronx    Co-op City  40.874294 -73.829939\n2            Bronx   Eastchester  40.887556 -73.827806\n3            Bronx     Fieldston  40.895437 -73.905643\n4            Bronx     Riverdale  40.890834 -73.912585\n..             ...           ...        ...        ...\n301      Manhattan  Hudson Yards  40.756658 -74.000111\n302         Queens       Hammels  40.587338 -73.805530\n303         Queens     Bayswater  40.611322 -73.765968\n304         Queens  Queensbridge  40.756091 -73.945631\n305  Staten Island     Fox Hills  40.617311 -74.081740\n\n[306 rows x 4 columns]"
                    },
                    "execution_count": 8,
                    "metadata": {},
                    "output_type": "execute_result"
                }
            ],
            "source": "ny_neighborhoods"
        },
        {
            "cell_type": "markdown",
            "metadata": {},
            "source": "It worth noting that there are 4 neighbourhoods with the same name but different boroughs, as 306 Neighbourhoods above but only 302 unique neighbourhood names."
        },
        {
            "cell_type": "code",
            "execution_count": 19,
            "metadata": {},
            "outputs": [
                {
                    "data": {
                        "text/plain": "302"
                    },
                    "execution_count": 19,
                    "metadata": {},
                    "output_type": "execute_result"
                }
            ],
            "source": "len(ny_neighborhoods.Neighborhood.unique())"
        },
        {
            "cell_type": "markdown",
            "metadata": {},
            "source": "### London Borough Data"
        },
        {
            "cell_type": "markdown",
            "metadata": {},
            "source": "Scrape London Borough Data from Wikipedia"
        },
        {
            "cell_type": "code",
            "execution_count": 10,
            "metadata": {},
            "outputs": [
                {
                    "data": {
                        "text/html": "<div>\n<style scoped>\n    .dataframe tbody tr th:only-of-type {\n        vertical-align: middle;\n    }\n\n    .dataframe tbody tr th {\n        vertical-align: top;\n    }\n\n    .dataframe thead th {\n        text-align: right;\n    }\n</style>\n<table border=\"1\" class=\"dataframe\">\n  <thead>\n    <tr style=\"text-align: right;\">\n      <th></th>\n      <th>Borough</th>\n      <th>Co-ordinates</th>\n    </tr>\n  </thead>\n  <tbody>\n    <tr>\n      <th>0</th>\n      <td>Barking and Dagenham [note 1]</td>\n      <td>51\u00b033\u203239\u2033N 0\u00b009\u203221\u2033E\ufeff / \ufeff51.5607\u00b0N 0.1557\u00b0E</td>\n    </tr>\n    <tr>\n      <th>1</th>\n      <td>Barnet</td>\n      <td>51\u00b037\u203231\u2033N 0\u00b009\u203206\u2033W\ufeff / \ufeff51.6252\u00b0N 0.1517\u00b0W</td>\n    </tr>\n    <tr>\n      <th>2</th>\n      <td>Bexley</td>\n      <td>51\u00b027\u203218\u2033N 0\u00b009\u203202\u2033E\ufeff / \ufeff51.4549\u00b0N 0.1505\u00b0E</td>\n    </tr>\n    <tr>\n      <th>3</th>\n      <td>Brent</td>\n      <td>51\u00b033\u203232\u2033N 0\u00b016\u203254\u2033W\ufeff / \ufeff51.5588\u00b0N 0.2817\u00b0W</td>\n    </tr>\n    <tr>\n      <th>4</th>\n      <td>Bromley</td>\n      <td>51\u00b024\u203214\u2033N 0\u00b001\u203211\u2033E\ufeff / \ufeff51.4039\u00b0N 0.0198\u00b0E</td>\n    </tr>\n  </tbody>\n</table>\n</div>",
                        "text/plain": "                         Borough                                 Co-ordinates\n0  Barking and Dagenham [note 1]  51\u00b033\u203239\u2033N 0\u00b009\u203221\u2033E\ufeff / \ufeff51.5607\u00b0N 0.1557\u00b0E\n1                         Barnet  51\u00b037\u203231\u2033N 0\u00b009\u203206\u2033W\ufeff / \ufeff51.6252\u00b0N 0.1517\u00b0W\n2                         Bexley  51\u00b027\u203218\u2033N 0\u00b009\u203202\u2033E\ufeff / \ufeff51.4549\u00b0N 0.1505\u00b0E\n3                          Brent  51\u00b033\u203232\u2033N 0\u00b016\u203254\u2033W\ufeff / \ufeff51.5588\u00b0N 0.2817\u00b0W\n4                        Bromley  51\u00b024\u203214\u2033N 0\u00b001\u203211\u2033E\ufeff / \ufeff51.4039\u00b0N 0.0198\u00b0E"
                    },
                    "execution_count": 10,
                    "metadata": {},
                    "output_type": "execute_result"
                }
            ],
            "source": "boroughs = pd.read_html('https://en.wikipedia.org/wiki/List_of_London_boroughs')\n\n#Select correct dataframe (0th) from list of dataframes\nlondon_boroughs = boroughs[0]\n\n#Select only necessary columns\nlondon_boroughs = london_boroughs[['Borough', 'Co-ordinates']].copy()\n\nlondon_boroughs.head()"
        },
        {
            "cell_type": "markdown",
            "metadata": {},
            "source": "Tidy up the 'Borough' column to remove any notes"
        },
        {
            "cell_type": "code",
            "execution_count": 11,
            "metadata": {},
            "outputs": [
                {
                    "data": {
                        "text/html": "<div>\n<style scoped>\n    .dataframe tbody tr th:only-of-type {\n        vertical-align: middle;\n    }\n\n    .dataframe tbody tr th {\n        vertical-align: top;\n    }\n\n    .dataframe thead th {\n        text-align: right;\n    }\n</style>\n<table border=\"1\" class=\"dataframe\">\n  <thead>\n    <tr style=\"text-align: right;\">\n      <th></th>\n      <th>Borough</th>\n      <th>Co-ordinates</th>\n    </tr>\n  </thead>\n  <tbody>\n    <tr>\n      <th>0</th>\n      <td>Barking and Dagenham</td>\n      <td>51\u00b033\u203239\u2033N 0\u00b009\u203221\u2033E\ufeff / \ufeff51.5607\u00b0N 0.1557\u00b0E</td>\n    </tr>\n    <tr>\n      <th>1</th>\n      <td>Barnet</td>\n      <td>51\u00b037\u203231\u2033N 0\u00b009\u203206\u2033W\ufeff / \ufeff51.6252\u00b0N 0.1517\u00b0W</td>\n    </tr>\n    <tr>\n      <th>2</th>\n      <td>Bexley</td>\n      <td>51\u00b027\u203218\u2033N 0\u00b009\u203202\u2033E\ufeff / \ufeff51.4549\u00b0N 0.1505\u00b0E</td>\n    </tr>\n    <tr>\n      <th>3</th>\n      <td>Brent</td>\n      <td>51\u00b033\u203232\u2033N 0\u00b016\u203254\u2033W\ufeff / \ufeff51.5588\u00b0N 0.2817\u00b0W</td>\n    </tr>\n    <tr>\n      <th>4</th>\n      <td>Bromley</td>\n      <td>51\u00b024\u203214\u2033N 0\u00b001\u203211\u2033E\ufeff / \ufeff51.4039\u00b0N 0.0198\u00b0E</td>\n    </tr>\n  </tbody>\n</table>\n</div>",
                        "text/plain": "                Borough                                 Co-ordinates\n0  Barking and Dagenham  51\u00b033\u203239\u2033N 0\u00b009\u203221\u2033E\ufeff / \ufeff51.5607\u00b0N 0.1557\u00b0E\n1                Barnet  51\u00b037\u203231\u2033N 0\u00b009\u203206\u2033W\ufeff / \ufeff51.6252\u00b0N 0.1517\u00b0W\n2                Bexley  51\u00b027\u203218\u2033N 0\u00b009\u203202\u2033E\ufeff / \ufeff51.4549\u00b0N 0.1505\u00b0E\n3                 Brent  51\u00b033\u203232\u2033N 0\u00b016\u203254\u2033W\ufeff / \ufeff51.5588\u00b0N 0.2817\u00b0W\n4               Bromley  51\u00b024\u203214\u2033N 0\u00b001\u203211\u2033E\ufeff / \ufeff51.4039\u00b0N 0.0198\u00b0E"
                    },
                    "execution_count": 11,
                    "metadata": {},
                    "output_type": "execute_result"
                }
            ],
            "source": "#Tidy up names of 'Borough' column. Remove any square parenthesis preceeded by a space\nlondon_boroughs['Borough'] = [boroughs.split(\" [\")[0] for boroughs in london_boroughs['Borough']]\n\nlondon_boroughs.head()"
        },
        {
            "cell_type": "markdown",
            "metadata": {},
            "source": "Take the decimal co-ordinates rather the degrees and arc seconds version"
        },
        {
            "cell_type": "code",
            "execution_count": 12,
            "metadata": {},
            "outputs": [
                {
                    "data": {
                        "text/html": "<div>\n<style scoped>\n    .dataframe tbody tr th:only-of-type {\n        vertical-align: middle;\n    }\n\n    .dataframe tbody tr th {\n        vertical-align: top;\n    }\n\n    .dataframe thead th {\n        text-align: right;\n    }\n</style>\n<table border=\"1\" class=\"dataframe\">\n  <thead>\n    <tr style=\"text-align: right;\">\n      <th></th>\n      <th>Borough</th>\n      <th>Co-ordinates</th>\n    </tr>\n  </thead>\n  <tbody>\n    <tr>\n      <th>0</th>\n      <td>Barking and Dagenham</td>\n      <td>\ufeff51.5607\u00b0N 0.1557\u00b0E</td>\n    </tr>\n    <tr>\n      <th>1</th>\n      <td>Barnet</td>\n      <td>\ufeff51.6252\u00b0N 0.1517\u00b0W</td>\n    </tr>\n    <tr>\n      <th>2</th>\n      <td>Bexley</td>\n      <td>\ufeff51.4549\u00b0N 0.1505\u00b0E</td>\n    </tr>\n    <tr>\n      <th>3</th>\n      <td>Brent</td>\n      <td>\ufeff51.5588\u00b0N 0.2817\u00b0W</td>\n    </tr>\n    <tr>\n      <th>4</th>\n      <td>Bromley</td>\n      <td>\ufeff51.4039\u00b0N 0.0198\u00b0E</td>\n    </tr>\n  </tbody>\n</table>\n</div>",
                        "text/plain": "                Borough          Co-ordinates\n0  Barking and Dagenham   \ufeff51.5607\u00b0N 0.1557\u00b0E\n1                Barnet   \ufeff51.6252\u00b0N 0.1517\u00b0W\n2                Bexley   \ufeff51.4549\u00b0N 0.1505\u00b0E\n3                 Brent   \ufeff51.5588\u00b0N 0.2817\u00b0W\n4               Bromley   \ufeff51.4039\u00b0N 0.0198\u00b0E"
                    },
                    "execution_count": 12,
                    "metadata": {},
                    "output_type": "execute_result"
                }
            ],
            "source": "#Take decimal co-ordinates for each borough rather than degrees and arc seconds\nlondon_boroughs['Co-ordinates'] = [coords.split(\"/\")[-1] for coords in london_boroughs['Co-ordinates']]\n\nlondon_boroughs.head()"
        },
        {
            "cell_type": "markdown",
            "metadata": {},
            "source": "Create Latitude and Longitude and Latitude from coordinates"
        },
        {
            "cell_type": "code",
            "execution_count": 13,
            "metadata": {},
            "outputs": [
                {
                    "data": {
                        "text/html": "<div>\n<style scoped>\n    .dataframe tbody tr th:only-of-type {\n        vertical-align: middle;\n    }\n\n    .dataframe tbody tr th {\n        vertical-align: top;\n    }\n\n    .dataframe thead th {\n        text-align: right;\n    }\n</style>\n<table border=\"1\" class=\"dataframe\">\n  <thead>\n    <tr style=\"text-align: right;\">\n      <th></th>\n      <th>Borough</th>\n      <th>Latitude</th>\n      <th>Longitude</th>\n    </tr>\n  </thead>\n  <tbody>\n    <tr>\n      <th>0</th>\n      <td>Barking and Dagenham</td>\n      <td>51.5607</td>\n      <td>0.1557</td>\n    </tr>\n    <tr>\n      <th>1</th>\n      <td>Barnet</td>\n      <td>51.6252</td>\n      <td>-0.1517</td>\n    </tr>\n    <tr>\n      <th>2</th>\n      <td>Bexley</td>\n      <td>51.4549</td>\n      <td>0.1505</td>\n    </tr>\n    <tr>\n      <th>3</th>\n      <td>Brent</td>\n      <td>51.5588</td>\n      <td>-0.2817</td>\n    </tr>\n    <tr>\n      <th>4</th>\n      <td>Bromley</td>\n      <td>51.4039</td>\n      <td>0.0198</td>\n    </tr>\n    <tr>\n      <th>5</th>\n      <td>Camden</td>\n      <td>51.5290</td>\n      <td>-0.1255</td>\n    </tr>\n    <tr>\n      <th>6</th>\n      <td>Croydon</td>\n      <td>51.3714</td>\n      <td>-0.0977</td>\n    </tr>\n    <tr>\n      <th>7</th>\n      <td>Ealing</td>\n      <td>51.5130</td>\n      <td>-0.3089</td>\n    </tr>\n    <tr>\n      <th>8</th>\n      <td>Enfield</td>\n      <td>51.6538</td>\n      <td>-0.0799</td>\n    </tr>\n    <tr>\n      <th>9</th>\n      <td>Greenwich</td>\n      <td>51.4892</td>\n      <td>0.0648</td>\n    </tr>\n    <tr>\n      <th>10</th>\n      <td>Hackney</td>\n      <td>51.5450</td>\n      <td>-0.0553</td>\n    </tr>\n    <tr>\n      <th>11</th>\n      <td>Hammersmith and Fulham</td>\n      <td>51.4927</td>\n      <td>-0.2339</td>\n    </tr>\n    <tr>\n      <th>12</th>\n      <td>Haringey</td>\n      <td>51.6000</td>\n      <td>-0.1119</td>\n    </tr>\n    <tr>\n      <th>13</th>\n      <td>Harrow</td>\n      <td>51.5898</td>\n      <td>-0.3346</td>\n    </tr>\n    <tr>\n      <th>14</th>\n      <td>Havering</td>\n      <td>51.5812</td>\n      <td>0.1837</td>\n    </tr>\n    <tr>\n      <th>15</th>\n      <td>Hillingdon</td>\n      <td>51.5441</td>\n      <td>-0.4760</td>\n    </tr>\n    <tr>\n      <th>16</th>\n      <td>Hounslow</td>\n      <td>51.4746</td>\n      <td>-0.3680</td>\n    </tr>\n    <tr>\n      <th>17</th>\n      <td>Islington</td>\n      <td>51.5416</td>\n      <td>-0.1022</td>\n    </tr>\n    <tr>\n      <th>18</th>\n      <td>Kensington and Chelsea</td>\n      <td>51.5020</td>\n      <td>-0.1947</td>\n    </tr>\n    <tr>\n      <th>19</th>\n      <td>Kingston upon Thames</td>\n      <td>51.4085</td>\n      <td>-0.3064</td>\n    </tr>\n    <tr>\n      <th>20</th>\n      <td>Lambeth</td>\n      <td>51.4607</td>\n      <td>-0.1163</td>\n    </tr>\n    <tr>\n      <th>21</th>\n      <td>Lewisham</td>\n      <td>51.4452</td>\n      <td>-0.0209</td>\n    </tr>\n    <tr>\n      <th>22</th>\n      <td>Merton</td>\n      <td>51.4014</td>\n      <td>-0.1958</td>\n    </tr>\n    <tr>\n      <th>23</th>\n      <td>Newham</td>\n      <td>51.5077</td>\n      <td>0.0469</td>\n    </tr>\n    <tr>\n      <th>24</th>\n      <td>Redbridge</td>\n      <td>51.5590</td>\n      <td>0.0741</td>\n    </tr>\n    <tr>\n      <th>25</th>\n      <td>Richmond upon Thames</td>\n      <td>51.4479</td>\n      <td>-0.3260</td>\n    </tr>\n    <tr>\n      <th>26</th>\n      <td>Southwark</td>\n      <td>51.5035</td>\n      <td>-0.0804</td>\n    </tr>\n    <tr>\n      <th>27</th>\n      <td>Sutton</td>\n      <td>51.3618</td>\n      <td>-0.1945</td>\n    </tr>\n    <tr>\n      <th>28</th>\n      <td>Tower Hamlets</td>\n      <td>51.5099</td>\n      <td>-0.0059</td>\n    </tr>\n    <tr>\n      <th>29</th>\n      <td>Waltham Forest</td>\n      <td>51.5908</td>\n      <td>-0.0134</td>\n    </tr>\n    <tr>\n      <th>30</th>\n      <td>Wandsworth</td>\n      <td>51.4567</td>\n      <td>-0.1910</td>\n    </tr>\n    <tr>\n      <th>31</th>\n      <td>Westminster</td>\n      <td>51.4973</td>\n      <td>-0.1372</td>\n    </tr>\n  </tbody>\n</table>\n</div>",
                        "text/plain": "                   Borough  Latitude  Longitude\n0     Barking and Dagenham   51.5607     0.1557\n1                   Barnet   51.6252    -0.1517\n2                   Bexley   51.4549     0.1505\n3                    Brent   51.5588    -0.2817\n4                  Bromley   51.4039     0.0198\n5                   Camden   51.5290    -0.1255\n6                  Croydon   51.3714    -0.0977\n7                   Ealing   51.5130    -0.3089\n8                  Enfield   51.6538    -0.0799\n9                Greenwich   51.4892     0.0648\n10                 Hackney   51.5450    -0.0553\n11  Hammersmith and Fulham   51.4927    -0.2339\n12                Haringey   51.6000    -0.1119\n13                  Harrow   51.5898    -0.3346\n14                Havering   51.5812     0.1837\n15              Hillingdon   51.5441    -0.4760\n16                Hounslow   51.4746    -0.3680\n17               Islington   51.5416    -0.1022\n18  Kensington and Chelsea   51.5020    -0.1947\n19    Kingston upon Thames   51.4085    -0.3064\n20                 Lambeth   51.4607    -0.1163\n21                Lewisham   51.4452    -0.0209\n22                  Merton   51.4014    -0.1958\n23                  Newham   51.5077     0.0469\n24               Redbridge   51.5590     0.0741\n25    Richmond upon Thames   51.4479    -0.3260\n26               Southwark   51.5035    -0.0804\n27                  Sutton   51.3618    -0.1945\n28           Tower Hamlets   51.5099    -0.0059\n29          Waltham Forest   51.5908    -0.0134\n30              Wandsworth   51.4567    -0.1910\n31             Westminster   51.4973    -0.1372"
                    },
                    "execution_count": 13,
                    "metadata": {},
                    "output_type": "execute_result"
                }
            ],
            "source": "#Latitude from Co-ordinates. All coordinate are \u00b0N with is positive.\nlondon_boroughs['Latitude'] = [coords.split(\"\u00b0N\")[0] for coords in london_boroughs['Co-ordinates']]\n\n#Remove ' \\ufeff' from each Latitude entry\nlondon_boroughs['Latitude'] = [lat.split(' \\ufeff')[-1] for lat in london_boroughs['Latitude']]\n\n#Longitude from Co-ordinates. Keep \u00b0E or \u00b0W as it will signify positive or negative sign\nlondon_boroughs['Longitude'] = [coords.split(\"\u00b0N \")[-1] for coords in london_boroughs['Co-ordinates']]\n\n#Seperate E/W for sign purposes of Longitude\nlondon_boroughs['Longitude sign'] = [long.split(\"\u00b0\")[-1] for long in london_boroughs['Longitude']]\n\n#Remove E/W for Longitude and cast to float\nlondon_boroughs['Longitude'] = [long.split(\"\u00b0\")[0] for long in london_boroughs['Longitude']]\n\n#We want to map E->1 and W->-1\n#First convert to True if 'E' then cast to int. 'E' -> 1, 'W'->0\nlondon_boroughs['Longitude sign'] = (london_boroughs['Longitude sign']=='E').astype(int)\n#Then Map 1->1 and 0->-1, using f(x)=2*x - 1\nlondon_boroughs['Longitude sign'] = 2*london_boroughs['Longitude sign']-1\n\n#Cast Latitude and Longitude as a float\nlondon_boroughs['Latitude'] = pd.to_numeric(london_boroughs['Latitude'])\nlondon_boroughs['Longitude'] = pd.to_numeric(london_boroughs['Longitude'])\n\n#Multiply Longitude by Longitude sign\nlondon_boroughs['Longitude'] = london_boroughs['Longitude']*london_boroughs['Longitude sign']\n\n#Drop Co-ordinates\nlondon_boroughs.drop(columns=['Co-ordinates', 'Longitude sign'],inplace=True)\n\nlondon_boroughs"
        },
        {
            "cell_type": "markdown",
            "metadata": {},
            "source": "### Define Foresquare Credientials"
        },
        {
            "cell_type": "code",
            "execution_count": 14,
            "metadata": {},
            "outputs": [],
            "source": "#@hidden-cell\nCLIENT_ID = 'XT2LDFOVZUGDEFYZU4A1PLM5X4UUP0204FYZ4W4H10LCOSII' # your Foursquare ID\nCLIENT_SECRET = '0KMOFB3UXX4JDRU5A40EJMO3HMKHOKQHXGDV3G4ESSA0LYO0' # your Foursquare Secret\nVERSION = '20180605' # Foursquare API version\nLIMIT = 100 # A default Foursquare API limit value"
        },
        {
            "cell_type": "markdown",
            "metadata": {},
            "source": "### Define function to collect nearby venues"
        },
        {
            "cell_type": "markdown",
            "metadata": {},
            "source": "Let's create a function to collect venue information around an area using the Foursquare API"
        },
        {
            "cell_type": "code",
            "execution_count": 26,
            "metadata": {},
            "outputs": [],
            "source": "def getNearbyVenues(names, latitudes, longitudes, radius):\n    \n    venues_list=[]\n    for name, lat, lng in zip(names, latitudes, longitudes):    \n        print(name)\n        \n        # create the API request URL\n        url = 'https://api.foursquare.com/v2/venues/explore?&client_id={}&client_secret={}&v={}&ll={},{}&radius={}&limit={}'.format(\n            CLIENT_ID, \n            CLIENT_SECRET, \n            VERSION, \n            lat, \n            lng, \n            radius, \n            LIMIT)\n            \n        # make the GET request\n        results = requests.get(url).json()[\"response\"]['groups'][0]['items']\n        \n        # return only relevant information for each nearby venue\n        venues_list.append([(\n            name, \n            lat, \n            lng, \n            v['venue']['name'], \n            v['venue']['location']['lat'], \n            v['venue']['location']['lng'],  \n            v['venue']['categories'][0]['name']) for v in results])\n\n    print('All areas venues collected')\n        \n    nearby_venues = pd.DataFrame([item for venue_list in venues_list for item in venue_list])\n    nearby_venues.columns = ['Area', \n                  'Area Latitude', \n                  'Area Longitude', \n                  'Venue', \n                  'Venue Latitude', \n                  'Venue Longitude', \n                  'Venue Category']\n    \n    return(nearby_venues)"
        },
        {
            "cell_type": "markdown",
            "metadata": {},
            "source": "### New York Neighbourhood Foursquare Similarity Data"
        },
        {
            "cell_type": "markdown",
            "metadata": {},
            "source": "It worth noting that there are 4 neighbourhoods with the same name but different boroughs. So add Borough to Neighbourhood to create an area"
        },
        {
            "cell_type": "code",
            "execution_count": 37,
            "metadata": {},
            "outputs": [],
            "source": "ny_neighborhoods['Area'] = ny_neighborhoods['Neighborhood'] + ', ' + ny_neighborhoods['Borough']"
        },
        {
            "cell_type": "markdown",
            "metadata": {},
            "source": "Use the same radius of 500m as used in the earlier demonstrations"
        },
        {
            "cell_type": "code",
            "execution_count": 38,
            "metadata": {},
            "outputs": [
                {
                    "name": "stdout",
                    "output_type": "stream",
                    "text": "Wakefield, Bronx\nCo-op City, Bronx\nEastchester, Bronx\nFieldston, Bronx\nRiverdale, Bronx\nKingsbridge, Bronx\nMarble Hill, Manhattan\nWoodlawn, Bronx\nNorwood, Bronx\nWilliamsbridge, Bronx\nBaychester, Bronx\nPelham Parkway, Bronx\nCity Island, Bronx\nBedford Park, Bronx\nUniversity Heights, Bronx\nMorris Heights, Bronx\nFordham, Bronx\nEast Tremont, Bronx\nWest Farms, Bronx\nHigh  Bridge, Bronx\nMelrose, Bronx\nMott Haven, Bronx\nPort Morris, Bronx\nLongwood, Bronx\nHunts Point, Bronx\nMorrisania, Bronx\nSoundview, Bronx\nClason Point, Bronx\nThrogs Neck, Bronx\nCountry Club, Bronx\nParkchester, Bronx\nWestchester Square, Bronx\nVan Nest, Bronx\nMorris Park, Bronx\nBelmont, Bronx\nSpuyten Duyvil, Bronx\nNorth Riverdale, Bronx\nPelham Bay, Bronx\nSchuylerville, Bronx\nEdgewater Park, Bronx\nCastle Hill, Bronx\nOlinville, Bronx\nPelham Gardens, Bronx\nConcourse, Bronx\nUnionport, Bronx\nEdenwald, Bronx\nBay Ridge, Brooklyn\nBensonhurst, Brooklyn\nSunset Park, Brooklyn\nGreenpoint, Brooklyn\nGravesend, Brooklyn\nBrighton Beach, Brooklyn\nSheepshead Bay, Brooklyn\nManhattan Terrace, Brooklyn\nFlatbush, Brooklyn\nCrown Heights, Brooklyn\nEast Flatbush, Brooklyn\nKensington, Brooklyn\nWindsor Terrace, Brooklyn\nProspect Heights, Brooklyn\nBrownsville, Brooklyn\nWilliamsburg, Brooklyn\nBushwick, Brooklyn\nBedford Stuyvesant, Brooklyn\nBrooklyn Heights, Brooklyn\nCobble Hill, Brooklyn\nCarroll Gardens, Brooklyn\nRed Hook, Brooklyn\nGowanus, Brooklyn\nFort Greene, Brooklyn\nPark Slope, Brooklyn\nCypress Hills, Brooklyn\nEast New York, Brooklyn\nStarrett City, Brooklyn\nCanarsie, Brooklyn\nFlatlands, Brooklyn\nMill Island, Brooklyn\nManhattan Beach, Brooklyn\nConey Island, Brooklyn\nBath Beach, Brooklyn\nBorough Park, Brooklyn\nDyker Heights, Brooklyn\nGerritsen Beach, Brooklyn\nMarine Park, Brooklyn\nClinton Hill, Brooklyn\nSea Gate, Brooklyn\nDowntown, Brooklyn\nBoerum Hill, Brooklyn\nProspect Lefferts Gardens, Brooklyn\nOcean Hill, Brooklyn\nCity Line, Brooklyn\nBergen Beach, Brooklyn\nMidwood, Brooklyn\nProspect Park South, Brooklyn\nGeorgetown, Brooklyn\nEast Williamsburg, Brooklyn\nNorth Side, Brooklyn\nSouth Side, Brooklyn\nOcean Parkway, Brooklyn\nFort Hamilton, Brooklyn\nChinatown, Manhattan\nWashington Heights, Manhattan\nInwood, Manhattan\nHamilton Heights, Manhattan\nManhattanville, Manhattan\nCentral Harlem, Manhattan\nEast Harlem, Manhattan\nUpper East Side, Manhattan\nYorkville, Manhattan\nLenox Hill, Manhattan\nRoosevelt Island, Manhattan\nUpper West Side, Manhattan\nLincoln Square, Manhattan\nClinton, Manhattan\nMidtown, Manhattan\nMurray Hill, Manhattan\nChelsea, Manhattan\nGreenwich Village, Manhattan\nEast Village, Manhattan\nLower East Side, Manhattan\nTribeca, Manhattan\nLittle Italy, Manhattan\nSoho, Manhattan\nWest Village, Manhattan\nManhattan Valley, Manhattan\nMorningside Heights, Manhattan\nGramercy, Manhattan\nBattery Park City, Manhattan\nFinancial District, Manhattan\nAstoria, Queens\nWoodside, Queens\nJackson Heights, Queens\nElmhurst, Queens\nHoward Beach, Queens\nCorona, Queens\nForest Hills, Queens\nKew Gardens, Queens\nRichmond Hill, Queens\nFlushing, Queens\nLong Island City, Queens\nSunnyside, Queens\nEast Elmhurst, Queens\nMaspeth, Queens\nRidgewood, Queens\nGlendale, Queens\nRego Park, Queens\nWoodhaven, Queens\nOzone Park, Queens\nSouth Ozone Park, Queens\nCollege Point, Queens\nWhitestone, Queens\nBayside, Queens\nAuburndale, Queens\nLittle Neck, Queens\nDouglaston, Queens\nGlen Oaks, Queens\nBellerose, Queens\nKew Gardens Hills, Queens\nFresh Meadows, Queens\nBriarwood, Queens\nJamaica Center, Queens\nOakland Gardens, Queens\nQueens Village, Queens\nHollis, Queens\nSouth Jamaica, Queens\nSt. Albans, Queens\nRochdale, Queens\nSpringfield Gardens, Queens\nCambria Heights, Queens\nRosedale, Queens\nFar Rockaway, Queens\nBroad Channel, Queens\nBreezy Point, Queens\nSteinway, Queens\nBeechhurst, Queens\nBay Terrace, Queens\nEdgemere, Queens\nArverne, Queens\nRockaway Beach, Queens\nNeponsit, Queens\nMurray Hill, Queens\nFloral Park, Queens\nHolliswood, Queens\nJamaica Estates, Queens\nQueensboro Hill, Queens\nHillcrest, Queens\nRavenswood, Queens\nLindenwood, Queens\nLaurelton, Queens\nLefrak City, Queens\nBelle Harbor, Queens\nRockaway Park, Queens\nSomerville, Queens\nBrookville, Queens\nBellaire, Queens\nNorth Corona, Queens\nForest Hills Gardens, Queens\nSt. George, Staten Island\nNew Brighton, Staten Island\nStapleton, Staten Island\nRosebank, Staten Island\nWest Brighton, Staten Island\nGrymes Hill, Staten Island\nTodt Hill, Staten Island\nSouth Beach, Staten Island\nPort Richmond, Staten Island\nMariner's Harbor, Staten Island\nPort Ivory, Staten Island\nCastleton Corners, Staten Island\nNew Springville, Staten Island\nTravis, Staten Island\nNew Dorp, Staten Island\nOakwood, Staten Island\nGreat Kills, Staten Island\nEltingville, Staten Island\nAnnadale, Staten Island\nWoodrow, Staten Island\nTottenville, Staten Island\nTompkinsville, Staten Island\nSilver Lake, Staten Island\nSunnyside, Staten Island\nDitmas Park, Brooklyn\nWingate, Brooklyn\nRugby, Brooklyn\nPark Hill, Staten Island\nWesterleigh, Staten Island\nGraniteville, Staten Island\nArlington, Staten Island\nArrochar, Staten Island\nGrasmere, Staten Island\nOld Town, Staten Island\nDongan Hills, Staten Island\nMidland Beach, Staten Island\nGrant City, Staten Island\nNew Dorp Beach, Staten Island\nBay Terrace, Staten Island\nHuguenot, Staten Island\nPleasant Plains, Staten Island\nButler Manor, Staten Island\nCharleston, Staten Island\nRossville, Staten Island\nArden Heights, Staten Island\nGreenridge, Staten Island\nHeartland Village, Staten Island\nChelsea, Staten Island\nBloomfield, Staten Island\nBulls Head, Staten Island\nCarnegie Hill, Manhattan\nNoho, Manhattan\nCivic Center, Manhattan\nMidtown South, Manhattan\nRichmond Town, Staten Island\nShore Acres, Staten Island\nClifton, Staten Island\nConcord, Staten Island\nEmerson Hill, Staten Island\nRandall Manor, Staten Island\nHowland Hook, Staten Island\nElm Park, Staten Island\nRemsen Village, Brooklyn\nNew Lots, Brooklyn\nPaerdegat Basin, Brooklyn\nMill Basin, Brooklyn\nJamaica Hills, Queens\nUtopia, Queens\nPomonok, Queens\nAstoria Heights, Queens\nClaremont Village, Bronx\nConcourse Village, Bronx\nMount Eden, Bronx\nMount Hope, Bronx\nSutton Place, Manhattan\nHunters Point, Queens\nTurtle Bay, Manhattan\nTudor City, Manhattan\nStuyvesant Town, Manhattan\nFlatiron, Manhattan\nSunnyside Gardens, Queens\nBlissville, Queens\nFulton Ferry, Brooklyn\nVinegar Hill, Brooklyn\nWeeksville, Brooklyn\nBroadway Junction, Brooklyn\nDumbo, Brooklyn\nManor Heights, Staten Island\nWillowbrook, Staten Island\nSandy Ground, Staten Island\nEgbertville, Staten Island\nRoxbury, Queens\nHomecrest, Brooklyn\nMiddle Village, Queens\nPrince's Bay, Staten Island\nLighthouse Hill, Staten Island\nRichmond Valley, Staten Island\nMalba, Queens\nHighland Park, Brooklyn\nMadison, Brooklyn\nBronxdale, Bronx\nAllerton, Bronx\nKingsbridge Heights, Bronx\nErasmus, Brooklyn\nHudson Yards, Manhattan\nHammels, Queens\nBayswater, Queens\nQueensbridge, Queens\nFox Hills, Staten Island\nAll areas venues collected\n"
                }
            ],
            "source": "ny_radius = 500\nny_venues = getNearbyVenues(ny_neighborhoods['Area'], ny_neighborhoods['Latitude'], ny_neighborhoods ['Longitude'], ny_radius)"
        },
        {
            "cell_type": "markdown",
            "metadata": {},
            "source": "Lets view a snippet of the extracted data"
        },
        {
            "cell_type": "code",
            "execution_count": 39,
            "metadata": {},
            "outputs": [
                {
                    "data": {
                        "text/html": "<div>\n<style scoped>\n    .dataframe tbody tr th:only-of-type {\n        vertical-align: middle;\n    }\n\n    .dataframe tbody tr th {\n        vertical-align: top;\n    }\n\n    .dataframe thead th {\n        text-align: right;\n    }\n</style>\n<table border=\"1\" class=\"dataframe\">\n  <thead>\n    <tr style=\"text-align: right;\">\n      <th></th>\n      <th>Area</th>\n      <th>Area Latitude</th>\n      <th>Area Longitude</th>\n      <th>Venue</th>\n      <th>Venue Latitude</th>\n      <th>Venue Longitude</th>\n      <th>Venue Category</th>\n    </tr>\n  </thead>\n  <tbody>\n    <tr>\n      <th>0</th>\n      <td>Wakefield, Bronx</td>\n      <td>40.894705</td>\n      <td>-73.847201</td>\n      <td>Lollipops Gelato</td>\n      <td>40.894123</td>\n      <td>-73.845892</td>\n      <td>Dessert Shop</td>\n    </tr>\n    <tr>\n      <th>1</th>\n      <td>Wakefield, Bronx</td>\n      <td>40.894705</td>\n      <td>-73.847201</td>\n      <td>Rite Aid</td>\n      <td>40.896649</td>\n      <td>-73.844846</td>\n      <td>Pharmacy</td>\n    </tr>\n    <tr>\n      <th>2</th>\n      <td>Wakefield, Bronx</td>\n      <td>40.894705</td>\n      <td>-73.847201</td>\n      <td>Carvel Ice Cream</td>\n      <td>40.890487</td>\n      <td>-73.848568</td>\n      <td>Ice Cream Shop</td>\n    </tr>\n    <tr>\n      <th>3</th>\n      <td>Wakefield, Bronx</td>\n      <td>40.894705</td>\n      <td>-73.847201</td>\n      <td>Walgreens</td>\n      <td>40.896528</td>\n      <td>-73.844700</td>\n      <td>Pharmacy</td>\n    </tr>\n    <tr>\n      <th>4</th>\n      <td>Wakefield, Bronx</td>\n      <td>40.894705</td>\n      <td>-73.847201</td>\n      <td>Dunkin'</td>\n      <td>40.890459</td>\n      <td>-73.849089</td>\n      <td>Donut Shop</td>\n    </tr>\n  </tbody>\n</table>\n</div>",
                        "text/plain": "               Area  Area Latitude  Area Longitude             Venue  \\\n0  Wakefield, Bronx      40.894705      -73.847201  Lollipops Gelato   \n1  Wakefield, Bronx      40.894705      -73.847201          Rite Aid   \n2  Wakefield, Bronx      40.894705      -73.847201  Carvel Ice Cream   \n3  Wakefield, Bronx      40.894705      -73.847201         Walgreens   \n4  Wakefield, Bronx      40.894705      -73.847201           Dunkin'   \n\n   Venue Latitude  Venue Longitude  Venue Category  \n0       40.894123       -73.845892    Dessert Shop  \n1       40.896649       -73.844846        Pharmacy  \n2       40.890487       -73.848568  Ice Cream Shop  \n3       40.896528       -73.844700        Pharmacy  \n4       40.890459       -73.849089      Donut Shop  "
                    },
                    "execution_count": 39,
                    "metadata": {},
                    "output_type": "execute_result"
                }
            ],
            "source": "ny_venues.head()"
        },
        {
            "cell_type": "markdown",
            "metadata": {},
            "source": "And lets see what the dimensions of the collected data are:"
        },
        {
            "cell_type": "code",
            "execution_count": 40,
            "metadata": {},
            "outputs": [
                {
                    "data": {
                        "text/plain": "(10106, 7)"
                    },
                    "execution_count": 40,
                    "metadata": {},
                    "output_type": "execute_result"
                }
            ],
            "source": "ny_venues.shape"
        },
        {
            "cell_type": "markdown",
            "metadata": {},
            "source": "Get a summary of number by neighbourhood "
        },
        {
            "cell_type": "code",
            "execution_count": 41,
            "metadata": {},
            "outputs": [
                {
                    "data": {
                        "text/html": "<div>\n<style scoped>\n    .dataframe tbody tr th:only-of-type {\n        vertical-align: middle;\n    }\n\n    .dataframe tbody tr th {\n        vertical-align: top;\n    }\n\n    .dataframe thead th {\n        text-align: right;\n    }\n</style>\n<table border=\"1\" class=\"dataframe\">\n  <thead>\n    <tr style=\"text-align: right;\">\n      <th></th>\n      <th>Area Latitude</th>\n      <th>Area Longitude</th>\n      <th>Venue</th>\n      <th>Venue Latitude</th>\n      <th>Venue Longitude</th>\n      <th>Venue Category</th>\n    </tr>\n    <tr>\n      <th>Area</th>\n      <th></th>\n      <th></th>\n      <th></th>\n      <th></th>\n      <th></th>\n      <th></th>\n    </tr>\n  </thead>\n  <tbody>\n    <tr>\n      <th>Allerton, Bronx</th>\n      <td>30</td>\n      <td>30</td>\n      <td>30</td>\n      <td>30</td>\n      <td>30</td>\n      <td>30</td>\n    </tr>\n    <tr>\n      <th>Annadale, Staten Island</th>\n      <td>11</td>\n      <td>11</td>\n      <td>11</td>\n      <td>11</td>\n      <td>11</td>\n      <td>11</td>\n    </tr>\n    <tr>\n      <th>Arden Heights, Staten Island</th>\n      <td>5</td>\n      <td>5</td>\n      <td>5</td>\n      <td>5</td>\n      <td>5</td>\n      <td>5</td>\n    </tr>\n    <tr>\n      <th>Arlington, Staten Island</th>\n      <td>6</td>\n      <td>6</td>\n      <td>6</td>\n      <td>6</td>\n      <td>6</td>\n      <td>6</td>\n    </tr>\n    <tr>\n      <th>Arrochar, Staten Island</th>\n      <td>22</td>\n      <td>22</td>\n      <td>22</td>\n      <td>22</td>\n      <td>22</td>\n      <td>22</td>\n    </tr>\n    <tr>\n      <th>...</th>\n      <td>...</td>\n      <td>...</td>\n      <td>...</td>\n      <td>...</td>\n      <td>...</td>\n      <td>...</td>\n    </tr>\n    <tr>\n      <th>Woodhaven, Queens</th>\n      <td>25</td>\n      <td>25</td>\n      <td>25</td>\n      <td>25</td>\n      <td>25</td>\n      <td>25</td>\n    </tr>\n    <tr>\n      <th>Woodlawn, Bronx</th>\n      <td>25</td>\n      <td>25</td>\n      <td>25</td>\n      <td>25</td>\n      <td>25</td>\n      <td>25</td>\n    </tr>\n    <tr>\n      <th>Woodrow, Staten Island</th>\n      <td>21</td>\n      <td>21</td>\n      <td>21</td>\n      <td>21</td>\n      <td>21</td>\n      <td>21</td>\n    </tr>\n    <tr>\n      <th>Woodside, Queens</th>\n      <td>75</td>\n      <td>75</td>\n      <td>75</td>\n      <td>75</td>\n      <td>75</td>\n      <td>75</td>\n    </tr>\n    <tr>\n      <th>Yorkville, Manhattan</th>\n      <td>100</td>\n      <td>100</td>\n      <td>100</td>\n      <td>100</td>\n      <td>100</td>\n      <td>100</td>\n    </tr>\n  </tbody>\n</table>\n<p>306 rows \u00d7 6 columns</p>\n</div>",
                        "text/plain": "                              Area Latitude  Area Longitude  Venue  \\\nArea                                                                 \nAllerton, Bronx                          30              30     30   \nAnnadale, Staten Island                  11              11     11   \nArden Heights, Staten Island              5               5      5   \nArlington, Staten Island                  6               6      6   \nArrochar, Staten Island                  22              22     22   \n...                                     ...             ...    ...   \nWoodhaven, Queens                        25              25     25   \nWoodlawn, Bronx                          25              25     25   \nWoodrow, Staten Island                   21              21     21   \nWoodside, Queens                         75              75     75   \nYorkville, Manhattan                    100             100    100   \n\n                              Venue Latitude  Venue Longitude  Venue Category  \nArea                                                                           \nAllerton, Bronx                           30               30              30  \nAnnadale, Staten Island                   11               11              11  \nArden Heights, Staten Island               5                5               5  \nArlington, Staten Island                   6                6               6  \nArrochar, Staten Island                   22               22              22  \n...                                      ...              ...             ...  \nWoodhaven, Queens                         25               25              25  \nWoodlawn, Bronx                           25               25              25  \nWoodrow, Staten Island                    21               21              21  \nWoodside, Queens                          75               75              75  \nYorkville, Manhattan                     100              100             100  \n\n[306 rows x 6 columns]"
                    },
                    "execution_count": 41,
                    "metadata": {},
                    "output_type": "execute_result"
                }
            ],
            "source": "ny_venues.groupby('Area').count()"
        },
        {
            "cell_type": "markdown",
            "metadata": {},
            "source": "Let's find out how many unique categories can be curated from all the returned venues"
        },
        {
            "cell_type": "code",
            "execution_count": 42,
            "metadata": {},
            "outputs": [
                {
                    "name": "stdout",
                    "output_type": "stream",
                    "text": "New York has 428 uniques categories.\n"
                }
            ],
            "source": "print('New York has {} uniques categories.'.format(len(ny_venues['Venue Category'].unique())))"
        },
        {
            "cell_type": "markdown",
            "metadata": {},
            "source": "Lets export this data for use potential use later without having to re-run Foursquare API calls - hidden cell"
        },
        {
            "cell_type": "code",
            "execution_count": 43,
            "metadata": {},
            "outputs": [],
            "source": "# The code was removed by Watson Studio for sharing."
        },
        {
            "cell_type": "markdown",
            "metadata": {},
            "source": "### London Borough Foursquare Similarity Data"
        },
        {
            "cell_type": "markdown",
            "metadata": {},
            "source": "Given that London Borough are approximately 10 times the population, we assume they are 10 times the area of New York neighbourhood. As such the radius will should be sqrt(10) times larger, which is approximately 3.\n\nWe use a radius of 1500m as used in the earlier demonstrations"
        },
        {
            "cell_type": "code",
            "execution_count": 44,
            "metadata": {
                "scrolled": true
            },
            "outputs": [
                {
                    "name": "stdout",
                    "output_type": "stream",
                    "text": "Barking and Dagenham\nBarnet\nBexley\nBrent\nBromley\nCamden\nCroydon\nEaling\nEnfield\nGreenwich\nHackney\nHammersmith and Fulham\nHaringey\nHarrow\nHavering\nHillingdon\nHounslow\nIslington\nKensington and Chelsea\nKingston upon Thames\nLambeth\nLewisham\nMerton\nNewham\nRedbridge\nRichmond upon Thames\nSouthwark\nSutton\nTower Hamlets\nWaltham Forest\nWandsworth\nWestminster\nAll areas venues collected\n"
                }
            ],
            "source": "london_radius = 1500\nlondon_venues = getNearbyVenues(london_boroughs['Borough'], london_boroughs['Latitude'], london_boroughs ['Longitude'], london_radius)"
        },
        {
            "cell_type": "markdown",
            "metadata": {},
            "source": "View a snippet of extracted data"
        },
        {
            "cell_type": "code",
            "execution_count": 45,
            "metadata": {},
            "outputs": [
                {
                    "data": {
                        "text/html": "<div>\n<style scoped>\n    .dataframe tbody tr th:only-of-type {\n        vertical-align: middle;\n    }\n\n    .dataframe tbody tr th {\n        vertical-align: top;\n    }\n\n    .dataframe thead th {\n        text-align: right;\n    }\n</style>\n<table border=\"1\" class=\"dataframe\">\n  <thead>\n    <tr style=\"text-align: right;\">\n      <th></th>\n      <th>Area</th>\n      <th>Area Latitude</th>\n      <th>Area Longitude</th>\n      <th>Venue</th>\n      <th>Venue Latitude</th>\n      <th>Venue Longitude</th>\n      <th>Venue Category</th>\n    </tr>\n  </thead>\n  <tbody>\n    <tr>\n      <th>0</th>\n      <td>Barking and Dagenham</td>\n      <td>51.5607</td>\n      <td>0.1557</td>\n      <td>Central Park</td>\n      <td>51.559560</td>\n      <td>0.161981</td>\n      <td>Park</td>\n    </tr>\n    <tr>\n      <th>1</th>\n      <td>Barking and Dagenham</td>\n      <td>51.5607</td>\n      <td>0.1557</td>\n      <td>Lara Grill</td>\n      <td>51.562445</td>\n      <td>0.147178</td>\n      <td>Turkish Restaurant</td>\n    </tr>\n    <tr>\n      <th>2</th>\n      <td>Barking and Dagenham</td>\n      <td>51.5607</td>\n      <td>0.1557</td>\n      <td>Asda</td>\n      <td>51.565770</td>\n      <td>0.143393</td>\n      <td>Supermarket</td>\n    </tr>\n    <tr>\n      <th>3</th>\n      <td>Barking and Dagenham</td>\n      <td>51.5607</td>\n      <td>0.1557</td>\n      <td>Iceland</td>\n      <td>51.560578</td>\n      <td>0.147685</td>\n      <td>Grocery Store</td>\n    </tr>\n    <tr>\n      <th>4</th>\n      <td>Barking and Dagenham</td>\n      <td>51.5607</td>\n      <td>0.1557</td>\n      <td>B&amp;M Store</td>\n      <td>51.565287</td>\n      <td>0.143793</td>\n      <td>Discount Store</td>\n    </tr>\n  </tbody>\n</table>\n</div>",
                        "text/plain": "                   Area  Area Latitude  Area Longitude         Venue  \\\n0  Barking and Dagenham        51.5607          0.1557  Central Park   \n1  Barking and Dagenham        51.5607          0.1557    Lara Grill   \n2  Barking and Dagenham        51.5607          0.1557          Asda   \n3  Barking and Dagenham        51.5607          0.1557       Iceland   \n4  Barking and Dagenham        51.5607          0.1557     B&M Store   \n\n   Venue Latitude  Venue Longitude      Venue Category  \n0       51.559560         0.161981                Park  \n1       51.562445         0.147178  Turkish Restaurant  \n2       51.565770         0.143393         Supermarket  \n3       51.560578         0.147685       Grocery Store  \n4       51.565287         0.143793      Discount Store  "
                    },
                    "execution_count": 45,
                    "metadata": {},
                    "output_type": "execute_result"
                }
            ],
            "source": "london_venues.head()"
        },
        {
            "cell_type": "markdown",
            "metadata": {},
            "source": "What are the dimension of the data"
        },
        {
            "cell_type": "code",
            "execution_count": 46,
            "metadata": {},
            "outputs": [
                {
                    "data": {
                        "text/plain": "(2468, 7)"
                    },
                    "execution_count": 46,
                    "metadata": {},
                    "output_type": "execute_result"
                }
            ],
            "source": "london_venues.shape"
        },
        {
            "cell_type": "markdown",
            "metadata": {},
            "source": "Venue summary of venue count by London Borough"
        },
        {
            "cell_type": "code",
            "execution_count": 47,
            "metadata": {
                "scrolled": true
            },
            "outputs": [
                {
                    "data": {
                        "text/html": "<div>\n<style scoped>\n    .dataframe tbody tr th:only-of-type {\n        vertical-align: middle;\n    }\n\n    .dataframe tbody tr th {\n        vertical-align: top;\n    }\n\n    .dataframe thead th {\n        text-align: right;\n    }\n</style>\n<table border=\"1\" class=\"dataframe\">\n  <thead>\n    <tr style=\"text-align: right;\">\n      <th></th>\n      <th>Area Latitude</th>\n      <th>Area Longitude</th>\n      <th>Venue</th>\n      <th>Venue Latitude</th>\n      <th>Venue Longitude</th>\n      <th>Venue Category</th>\n    </tr>\n    <tr>\n      <th>Area</th>\n      <th></th>\n      <th></th>\n      <th></th>\n      <th></th>\n      <th></th>\n      <th></th>\n    </tr>\n  </thead>\n  <tbody>\n    <tr>\n      <th>Barking and Dagenham</th>\n      <td>22</td>\n      <td>22</td>\n      <td>22</td>\n      <td>22</td>\n      <td>22</td>\n      <td>22</td>\n    </tr>\n    <tr>\n      <th>Barnet</th>\n      <td>21</td>\n      <td>21</td>\n      <td>21</td>\n      <td>21</td>\n      <td>21</td>\n      <td>21</td>\n    </tr>\n    <tr>\n      <th>Bexley</th>\n      <td>61</td>\n      <td>61</td>\n      <td>61</td>\n      <td>61</td>\n      <td>61</td>\n      <td>61</td>\n    </tr>\n    <tr>\n      <th>Brent</th>\n      <td>100</td>\n      <td>100</td>\n      <td>100</td>\n      <td>100</td>\n      <td>100</td>\n      <td>100</td>\n    </tr>\n    <tr>\n      <th>Bromley</th>\n      <td>59</td>\n      <td>59</td>\n      <td>59</td>\n      <td>59</td>\n      <td>59</td>\n      <td>59</td>\n    </tr>\n    <tr>\n      <th>Camden</th>\n      <td>100</td>\n      <td>100</td>\n      <td>100</td>\n      <td>100</td>\n      <td>100</td>\n      <td>100</td>\n    </tr>\n    <tr>\n      <th>Croydon</th>\n      <td>95</td>\n      <td>95</td>\n      <td>95</td>\n      <td>95</td>\n      <td>95</td>\n      <td>95</td>\n    </tr>\n    <tr>\n      <th>Ealing</th>\n      <td>100</td>\n      <td>100</td>\n      <td>100</td>\n      <td>100</td>\n      <td>100</td>\n      <td>100</td>\n    </tr>\n    <tr>\n      <th>Enfield</th>\n      <td>75</td>\n      <td>75</td>\n      <td>75</td>\n      <td>75</td>\n      <td>75</td>\n      <td>75</td>\n    </tr>\n    <tr>\n      <th>Greenwich</th>\n      <td>72</td>\n      <td>72</td>\n      <td>72</td>\n      <td>72</td>\n      <td>72</td>\n      <td>72</td>\n    </tr>\n    <tr>\n      <th>Hackney</th>\n      <td>100</td>\n      <td>100</td>\n      <td>100</td>\n      <td>100</td>\n      <td>100</td>\n      <td>100</td>\n    </tr>\n    <tr>\n      <th>Hammersmith and Fulham</th>\n      <td>100</td>\n      <td>100</td>\n      <td>100</td>\n      <td>100</td>\n      <td>100</td>\n      <td>100</td>\n    </tr>\n    <tr>\n      <th>Haringey</th>\n      <td>100</td>\n      <td>100</td>\n      <td>100</td>\n      <td>100</td>\n      <td>100</td>\n      <td>100</td>\n    </tr>\n    <tr>\n      <th>Harrow</th>\n      <td>49</td>\n      <td>49</td>\n      <td>49</td>\n      <td>49</td>\n      <td>49</td>\n      <td>49</td>\n    </tr>\n    <tr>\n      <th>Havering</th>\n      <td>81</td>\n      <td>81</td>\n      <td>81</td>\n      <td>81</td>\n      <td>81</td>\n      <td>81</td>\n    </tr>\n    <tr>\n      <th>Hillingdon</th>\n      <td>51</td>\n      <td>51</td>\n      <td>51</td>\n      <td>51</td>\n      <td>51</td>\n      <td>51</td>\n    </tr>\n    <tr>\n      <th>Hounslow</th>\n      <td>80</td>\n      <td>80</td>\n      <td>80</td>\n      <td>80</td>\n      <td>80</td>\n      <td>80</td>\n    </tr>\n    <tr>\n      <th>Islington</th>\n      <td>100</td>\n      <td>100</td>\n      <td>100</td>\n      <td>100</td>\n      <td>100</td>\n      <td>100</td>\n    </tr>\n    <tr>\n      <th>Kensington and Chelsea</th>\n      <td>100</td>\n      <td>100</td>\n      <td>100</td>\n      <td>100</td>\n      <td>100</td>\n      <td>100</td>\n    </tr>\n    <tr>\n      <th>Kingston upon Thames</th>\n      <td>100</td>\n      <td>100</td>\n      <td>100</td>\n      <td>100</td>\n      <td>100</td>\n      <td>100</td>\n    </tr>\n    <tr>\n      <th>Lambeth</th>\n      <td>98</td>\n      <td>98</td>\n      <td>98</td>\n      <td>98</td>\n      <td>98</td>\n      <td>98</td>\n    </tr>\n    <tr>\n      <th>Lewisham</th>\n      <td>51</td>\n      <td>51</td>\n      <td>51</td>\n      <td>51</td>\n      <td>51</td>\n      <td>51</td>\n    </tr>\n    <tr>\n      <th>Merton</th>\n      <td>42</td>\n      <td>42</td>\n      <td>42</td>\n      <td>42</td>\n      <td>42</td>\n      <td>42</td>\n    </tr>\n    <tr>\n      <th>Newham</th>\n      <td>57</td>\n      <td>57</td>\n      <td>57</td>\n      <td>57</td>\n      <td>57</td>\n      <td>57</td>\n    </tr>\n    <tr>\n      <th>Redbridge</th>\n      <td>47</td>\n      <td>47</td>\n      <td>47</td>\n      <td>47</td>\n      <td>47</td>\n      <td>47</td>\n    </tr>\n    <tr>\n      <th>Richmond upon Thames</th>\n      <td>100</td>\n      <td>100</td>\n      <td>100</td>\n      <td>100</td>\n      <td>100</td>\n      <td>100</td>\n    </tr>\n    <tr>\n      <th>Southwark</th>\n      <td>100</td>\n      <td>100</td>\n      <td>100</td>\n      <td>100</td>\n      <td>100</td>\n      <td>100</td>\n    </tr>\n    <tr>\n      <th>Sutton</th>\n      <td>48</td>\n      <td>48</td>\n      <td>48</td>\n      <td>48</td>\n      <td>48</td>\n      <td>48</td>\n    </tr>\n    <tr>\n      <th>Tower Hamlets</th>\n      <td>100</td>\n      <td>100</td>\n      <td>100</td>\n      <td>100</td>\n      <td>100</td>\n      <td>100</td>\n    </tr>\n    <tr>\n      <th>Waltham Forest</th>\n      <td>69</td>\n      <td>69</td>\n      <td>69</td>\n      <td>69</td>\n      <td>69</td>\n      <td>69</td>\n    </tr>\n    <tr>\n      <th>Wandsworth</th>\n      <td>90</td>\n      <td>90</td>\n      <td>90</td>\n      <td>90</td>\n      <td>90</td>\n      <td>90</td>\n    </tr>\n    <tr>\n      <th>Westminster</th>\n      <td>100</td>\n      <td>100</td>\n      <td>100</td>\n      <td>100</td>\n      <td>100</td>\n      <td>100</td>\n    </tr>\n  </tbody>\n</table>\n</div>",
                        "text/plain": "                        Area Latitude  Area Longitude  Venue  Venue Latitude  \\\nArea                                                                           \nBarking and Dagenham               22              22     22              22   \nBarnet                             21              21     21              21   \nBexley                             61              61     61              61   \nBrent                             100             100    100             100   \nBromley                            59              59     59              59   \nCamden                            100             100    100             100   \nCroydon                            95              95     95              95   \nEaling                            100             100    100             100   \nEnfield                            75              75     75              75   \nGreenwich                          72              72     72              72   \nHackney                           100             100    100             100   \nHammersmith and Fulham            100             100    100             100   \nHaringey                          100             100    100             100   \nHarrow                             49              49     49              49   \nHavering                           81              81     81              81   \nHillingdon                         51              51     51              51   \nHounslow                           80              80     80              80   \nIslington                         100             100    100             100   \nKensington and Chelsea            100             100    100             100   \nKingston upon Thames              100             100    100             100   \nLambeth                            98              98     98              98   \nLewisham                           51              51     51              51   \nMerton                             42              42     42              42   \nNewham                             57              57     57              57   \nRedbridge                          47              47     47              47   \nRichmond upon Thames              100             100    100             100   \nSouthwark                         100             100    100             100   \nSutton                             48              48     48              48   \nTower Hamlets                     100             100    100             100   \nWaltham Forest                     69              69     69              69   \nWandsworth                         90              90     90              90   \nWestminster                       100             100    100             100   \n\n                        Venue Longitude  Venue Category  \nArea                                                     \nBarking and Dagenham                 22              22  \nBarnet                               21              21  \nBexley                               61              61  \nBrent                               100             100  \nBromley                              59              59  \nCamden                              100             100  \nCroydon                              95              95  \nEaling                              100             100  \nEnfield                              75              75  \nGreenwich                            72              72  \nHackney                             100             100  \nHammersmith and Fulham              100             100  \nHaringey                            100             100  \nHarrow                               49              49  \nHavering                             81              81  \nHillingdon                           51              51  \nHounslow                             80              80  \nIslington                           100             100  \nKensington and Chelsea              100             100  \nKingston upon Thames                100             100  \nLambeth                              98              98  \nLewisham                             51              51  \nMerton                               42              42  \nNewham                               57              57  \nRedbridge                            47              47  \nRichmond upon Thames                100             100  \nSouthwark                           100             100  \nSutton                               48              48  \nTower Hamlets                       100             100  \nWaltham Forest                       69              69  \nWandsworth                           90              90  \nWestminster                         100             100  "
                    },
                    "execution_count": 47,
                    "metadata": {},
                    "output_type": "execute_result"
                }
            ],
            "source": "london_venues.groupby('Area').count()"
        },
        {
            "cell_type": "markdown",
            "metadata": {},
            "source": "Let's find out how many unique categories can be curated from all the returned venues"
        },
        {
            "cell_type": "code",
            "execution_count": 48,
            "metadata": {},
            "outputs": [
                {
                    "name": "stdout",
                    "output_type": "stream",
                    "text": "London has 263 uniques categories.\n"
                }
            ],
            "source": "print('London has {} uniques categories.'.format(len(london_venues['Venue Category'].unique())))"
        },
        {
            "cell_type": "markdown",
            "metadata": {},
            "source": "Lets export this data for use potential use later without having to re-run Foursquare API calls - hidden cell"
        },
        {
            "cell_type": "code",
            "execution_count": 49,
            "metadata": {},
            "outputs": [],
            "source": "# The code was removed by Watson Studio for sharing."
        },
        {
            "cell_type": "markdown",
            "metadata": {},
            "source": "### Concatenate data frames to ensure the columns are the same"
        },
        {
            "cell_type": "code",
            "execution_count": 50,
            "metadata": {},
            "outputs": [
                {
                    "data": {
                        "text/plain": "(12574, 8)"
                    },
                    "execution_count": 50,
                    "metadata": {},
                    "output_type": "execute_result"
                }
            ],
            "source": "#Add NY Label to dataframe\nny_venues['City'] = 'New York'\n\n#Add London Label to dataframe\nlondon_venues['City'] = 'London'\n\n#Concatenate the London and NY Dataset to ensure features are the same\ncity_venues = pd.concat([ny_venues, london_venues], axis=0, ignore_index=True)\n\ncity_venues.shape"
        },
        {
            "cell_type": "markdown",
            "metadata": {},
            "source": "### Normalise features"
        },
        {
            "cell_type": "markdown",
            "metadata": {},
            "source": "One hot encode venue type to generate features"
        },
        {
            "cell_type": "code",
            "execution_count": 52,
            "metadata": {},
            "outputs": [
                {
                    "data": {
                        "text/plain": "(12574, 470)"
                    },
                    "execution_count": 52,
                    "metadata": {},
                    "output_type": "execute_result"
                }
            ],
            "source": "# one hot encoding\ncity_onehot = pd.get_dummies(city_venues[['Venue Category']], prefix=\"\", prefix_sep=\"\")\n\n# add areas and city column back to dataframe\ncity_onehot['Area'] = city_venues['Area'] \ncity_onehot['City'] = city_venues['City'] \n\n# move areas and city column to the first and second column\nfixed_columns = [city_onehot.columns[-2]] + [city_onehot.columns[-1]] + list(city_onehot.columns[:-2])\ncity_onehot = city_onehot[fixed_columns]\n\ncity_onehot.shape"
        },
        {
            "cell_type": "markdown",
            "metadata": {},
            "source": "Split features back by city "
        },
        {
            "cell_type": "code",
            "execution_count": 53,
            "metadata": {},
            "outputs": [],
            "source": "london_onehot = city_onehot[city_onehot['City'] == 'London'].copy()\nny_onehot = city_onehot[city_onehot['City'] == 'New York'].copy()"
        },
        {
            "cell_type": "markdown",
            "metadata": {},
            "source": "Drop the City column from the one-hot columns"
        },
        {
            "cell_type": "code",
            "execution_count": 57,
            "metadata": {},
            "outputs": [],
            "source": "london_onehot.drop(columns=['City'], inplace=True)\nny_onehot.drop(columns=['City'], inplace=True)"
        },
        {
            "cell_type": "markdown",
            "metadata": {},
            "source": "### Normalise features"
        },
        {
            "cell_type": "markdown",
            "metadata": {},
            "source": "Calculate what the proportion of each type of store is in each area"
        },
        {
            "cell_type": "code",
            "execution_count": 58,
            "metadata": {},
            "outputs": [
                {
                    "data": {
                        "text/html": "<div>\n<style scoped>\n    .dataframe tbody tr th:only-of-type {\n        vertical-align: middle;\n    }\n\n    .dataframe tbody tr th {\n        vertical-align: top;\n    }\n\n    .dataframe thead th {\n        text-align: right;\n    }\n</style>\n<table border=\"1\" class=\"dataframe\">\n  <thead>\n    <tr style=\"text-align: right;\">\n      <th></th>\n      <th>Area</th>\n      <th>Accessories Store</th>\n      <th>Adult Boutique</th>\n      <th>Afghan Restaurant</th>\n      <th>African Restaurant</th>\n      <th>Airport</th>\n      <th>Airport Lounge</th>\n      <th>Airport Service</th>\n      <th>Airport Terminal</th>\n      <th>American Restaurant</th>\n      <th>Antique Shop</th>\n      <th>Arcade</th>\n      <th>...</th>\n      <th>Volleyball Court</th>\n      <th>Warehouse Store</th>\n      <th>Waste Facility</th>\n      <th>Waterfront</th>\n      <th>Weight Loss Center</th>\n      <th>Whisky Bar</th>\n      <th>Windmill</th>\n      <th>Wine Bar</th>\n      <th>Wine Shop</th>\n      <th>Wings Joint</th>\n      <th>Women's Store</th>\n      <th>Yoga Studio</th>\n    </tr>\n  </thead>\n  <tbody>\n    <tr>\n      <th>0</th>\n      <td>Barking and Dagenham</td>\n      <td>0.0</td>\n      <td>0.0</td>\n      <td>0.00</td>\n      <td>0.000000</td>\n      <td>0.000000</td>\n      <td>0.000000</td>\n      <td>0.000000</td>\n      <td>0.0</td>\n      <td>0.000000</td>\n      <td>0.0</td>\n      <td>0.0</td>\n      <td>...</td>\n      <td>0.0</td>\n      <td>0.000000</td>\n      <td>0.0</td>\n      <td>0.0</td>\n      <td>0.0</td>\n      <td>0.0</td>\n      <td>0.000000</td>\n      <td>0.000000</td>\n      <td>0.000000</td>\n      <td>0.0</td>\n      <td>0.000000</td>\n      <td>0.000000</td>\n    </tr>\n    <tr>\n      <th>1</th>\n      <td>Barnet</td>\n      <td>0.0</td>\n      <td>0.0</td>\n      <td>0.00</td>\n      <td>0.000000</td>\n      <td>0.000000</td>\n      <td>0.000000</td>\n      <td>0.000000</td>\n      <td>0.0</td>\n      <td>0.000000</td>\n      <td>0.0</td>\n      <td>0.0</td>\n      <td>...</td>\n      <td>0.0</td>\n      <td>0.000000</td>\n      <td>0.0</td>\n      <td>0.0</td>\n      <td>0.0</td>\n      <td>0.0</td>\n      <td>0.000000</td>\n      <td>0.000000</td>\n      <td>0.000000</td>\n      <td>0.0</td>\n      <td>0.000000</td>\n      <td>0.000000</td>\n    </tr>\n    <tr>\n      <th>2</th>\n      <td>Bexley</td>\n      <td>0.0</td>\n      <td>0.0</td>\n      <td>0.00</td>\n      <td>0.000000</td>\n      <td>0.000000</td>\n      <td>0.000000</td>\n      <td>0.000000</td>\n      <td>0.0</td>\n      <td>0.032787</td>\n      <td>0.0</td>\n      <td>0.0</td>\n      <td>...</td>\n      <td>0.0</td>\n      <td>0.016393</td>\n      <td>0.0</td>\n      <td>0.0</td>\n      <td>0.0</td>\n      <td>0.0</td>\n      <td>0.000000</td>\n      <td>0.000000</td>\n      <td>0.000000</td>\n      <td>0.0</td>\n      <td>0.000000</td>\n      <td>0.000000</td>\n    </tr>\n    <tr>\n      <th>3</th>\n      <td>Brent</td>\n      <td>0.0</td>\n      <td>0.0</td>\n      <td>0.00</td>\n      <td>0.000000</td>\n      <td>0.000000</td>\n      <td>0.000000</td>\n      <td>0.000000</td>\n      <td>0.0</td>\n      <td>0.020000</td>\n      <td>0.0</td>\n      <td>0.0</td>\n      <td>...</td>\n      <td>0.0</td>\n      <td>0.020000</td>\n      <td>0.0</td>\n      <td>0.0</td>\n      <td>0.0</td>\n      <td>0.0</td>\n      <td>0.000000</td>\n      <td>0.000000</td>\n      <td>0.000000</td>\n      <td>0.0</td>\n      <td>0.000000</td>\n      <td>0.000000</td>\n    </tr>\n    <tr>\n      <th>4</th>\n      <td>Bromley</td>\n      <td>0.0</td>\n      <td>0.0</td>\n      <td>0.00</td>\n      <td>0.000000</td>\n      <td>0.000000</td>\n      <td>0.000000</td>\n      <td>0.000000</td>\n      <td>0.0</td>\n      <td>0.016949</td>\n      <td>0.0</td>\n      <td>0.0</td>\n      <td>...</td>\n      <td>0.0</td>\n      <td>0.000000</td>\n      <td>0.0</td>\n      <td>0.0</td>\n      <td>0.0</td>\n      <td>0.0</td>\n      <td>0.000000</td>\n      <td>0.000000</td>\n      <td>0.000000</td>\n      <td>0.0</td>\n      <td>0.000000</td>\n      <td>0.000000</td>\n    </tr>\n    <tr>\n      <th>5</th>\n      <td>Camden</td>\n      <td>0.0</td>\n      <td>0.0</td>\n      <td>0.00</td>\n      <td>0.000000</td>\n      <td>0.000000</td>\n      <td>0.000000</td>\n      <td>0.000000</td>\n      <td>0.0</td>\n      <td>0.000000</td>\n      <td>0.0</td>\n      <td>0.0</td>\n      <td>...</td>\n      <td>0.0</td>\n      <td>0.000000</td>\n      <td>0.0</td>\n      <td>0.0</td>\n      <td>0.0</td>\n      <td>0.0</td>\n      <td>0.000000</td>\n      <td>0.010000</td>\n      <td>0.000000</td>\n      <td>0.0</td>\n      <td>0.000000</td>\n      <td>0.000000</td>\n    </tr>\n    <tr>\n      <th>6</th>\n      <td>Croydon</td>\n      <td>0.0</td>\n      <td>0.0</td>\n      <td>0.00</td>\n      <td>0.000000</td>\n      <td>0.000000</td>\n      <td>0.000000</td>\n      <td>0.000000</td>\n      <td>0.0</td>\n      <td>0.000000</td>\n      <td>0.0</td>\n      <td>0.0</td>\n      <td>...</td>\n      <td>0.0</td>\n      <td>0.000000</td>\n      <td>0.0</td>\n      <td>0.0</td>\n      <td>0.0</td>\n      <td>0.0</td>\n      <td>0.000000</td>\n      <td>0.000000</td>\n      <td>0.000000</td>\n      <td>0.0</td>\n      <td>0.000000</td>\n      <td>0.000000</td>\n    </tr>\n    <tr>\n      <th>7</th>\n      <td>Ealing</td>\n      <td>0.0</td>\n      <td>0.0</td>\n      <td>0.00</td>\n      <td>0.000000</td>\n      <td>0.000000</td>\n      <td>0.000000</td>\n      <td>0.000000</td>\n      <td>0.0</td>\n      <td>0.000000</td>\n      <td>0.0</td>\n      <td>0.0</td>\n      <td>...</td>\n      <td>0.0</td>\n      <td>0.000000</td>\n      <td>0.0</td>\n      <td>0.0</td>\n      <td>0.0</td>\n      <td>0.0</td>\n      <td>0.000000</td>\n      <td>0.020000</td>\n      <td>0.000000</td>\n      <td>0.0</td>\n      <td>0.000000</td>\n      <td>0.000000</td>\n    </tr>\n    <tr>\n      <th>8</th>\n      <td>Enfield</td>\n      <td>0.0</td>\n      <td>0.0</td>\n      <td>0.00</td>\n      <td>0.000000</td>\n      <td>0.000000</td>\n      <td>0.000000</td>\n      <td>0.000000</td>\n      <td>0.0</td>\n      <td>0.013333</td>\n      <td>0.0</td>\n      <td>0.0</td>\n      <td>...</td>\n      <td>0.0</td>\n      <td>0.000000</td>\n      <td>0.0</td>\n      <td>0.0</td>\n      <td>0.0</td>\n      <td>0.0</td>\n      <td>0.000000</td>\n      <td>0.000000</td>\n      <td>0.000000</td>\n      <td>0.0</td>\n      <td>0.013333</td>\n      <td>0.000000</td>\n    </tr>\n    <tr>\n      <th>9</th>\n      <td>Greenwich</td>\n      <td>0.0</td>\n      <td>0.0</td>\n      <td>0.00</td>\n      <td>0.013889</td>\n      <td>0.000000</td>\n      <td>0.000000</td>\n      <td>0.000000</td>\n      <td>0.0</td>\n      <td>0.000000</td>\n      <td>0.0</td>\n      <td>0.0</td>\n      <td>...</td>\n      <td>0.0</td>\n      <td>0.013889</td>\n      <td>0.0</td>\n      <td>0.0</td>\n      <td>0.0</td>\n      <td>0.0</td>\n      <td>0.000000</td>\n      <td>0.000000</td>\n      <td>0.000000</td>\n      <td>0.0</td>\n      <td>0.000000</td>\n      <td>0.000000</td>\n    </tr>\n    <tr>\n      <th>10</th>\n      <td>Hackney</td>\n      <td>0.0</td>\n      <td>0.0</td>\n      <td>0.00</td>\n      <td>0.000000</td>\n      <td>0.000000</td>\n      <td>0.000000</td>\n      <td>0.000000</td>\n      <td>0.0</td>\n      <td>0.000000</td>\n      <td>0.0</td>\n      <td>0.0</td>\n      <td>...</td>\n      <td>0.0</td>\n      <td>0.000000</td>\n      <td>0.0</td>\n      <td>0.0</td>\n      <td>0.0</td>\n      <td>0.0</td>\n      <td>0.000000</td>\n      <td>0.000000</td>\n      <td>0.030000</td>\n      <td>0.0</td>\n      <td>0.000000</td>\n      <td>0.010000</td>\n    </tr>\n    <tr>\n      <th>11</th>\n      <td>Hammersmith and Fulham</td>\n      <td>0.0</td>\n      <td>0.0</td>\n      <td>0.00</td>\n      <td>0.000000</td>\n      <td>0.000000</td>\n      <td>0.000000</td>\n      <td>0.000000</td>\n      <td>0.0</td>\n      <td>0.000000</td>\n      <td>0.0</td>\n      <td>0.0</td>\n      <td>...</td>\n      <td>0.0</td>\n      <td>0.000000</td>\n      <td>0.0</td>\n      <td>0.0</td>\n      <td>0.0</td>\n      <td>0.0</td>\n      <td>0.000000</td>\n      <td>0.000000</td>\n      <td>0.000000</td>\n      <td>0.0</td>\n      <td>0.000000</td>\n      <td>0.000000</td>\n    </tr>\n    <tr>\n      <th>12</th>\n      <td>Haringey</td>\n      <td>0.0</td>\n      <td>0.0</td>\n      <td>0.00</td>\n      <td>0.010000</td>\n      <td>0.000000</td>\n      <td>0.000000</td>\n      <td>0.000000</td>\n      <td>0.0</td>\n      <td>0.000000</td>\n      <td>0.0</td>\n      <td>0.0</td>\n      <td>...</td>\n      <td>0.0</td>\n      <td>0.000000</td>\n      <td>0.0</td>\n      <td>0.0</td>\n      <td>0.0</td>\n      <td>0.0</td>\n      <td>0.000000</td>\n      <td>0.000000</td>\n      <td>0.000000</td>\n      <td>0.0</td>\n      <td>0.010000</td>\n      <td>0.000000</td>\n    </tr>\n    <tr>\n      <th>13</th>\n      <td>Harrow</td>\n      <td>0.0</td>\n      <td>0.0</td>\n      <td>0.00</td>\n      <td>0.000000</td>\n      <td>0.000000</td>\n      <td>0.000000</td>\n      <td>0.000000</td>\n      <td>0.0</td>\n      <td>0.000000</td>\n      <td>0.0</td>\n      <td>0.0</td>\n      <td>...</td>\n      <td>0.0</td>\n      <td>0.000000</td>\n      <td>0.0</td>\n      <td>0.0</td>\n      <td>0.0</td>\n      <td>0.0</td>\n      <td>0.000000</td>\n      <td>0.000000</td>\n      <td>0.000000</td>\n      <td>0.0</td>\n      <td>0.020408</td>\n      <td>0.000000</td>\n    </tr>\n    <tr>\n      <th>14</th>\n      <td>Havering</td>\n      <td>0.0</td>\n      <td>0.0</td>\n      <td>0.00</td>\n      <td>0.000000</td>\n      <td>0.000000</td>\n      <td>0.000000</td>\n      <td>0.000000</td>\n      <td>0.0</td>\n      <td>0.024691</td>\n      <td>0.0</td>\n      <td>0.0</td>\n      <td>...</td>\n      <td>0.0</td>\n      <td>0.012346</td>\n      <td>0.0</td>\n      <td>0.0</td>\n      <td>0.0</td>\n      <td>0.0</td>\n      <td>0.000000</td>\n      <td>0.000000</td>\n      <td>0.012346</td>\n      <td>0.0</td>\n      <td>0.000000</td>\n      <td>0.000000</td>\n    </tr>\n    <tr>\n      <th>15</th>\n      <td>Hillingdon</td>\n      <td>0.0</td>\n      <td>0.0</td>\n      <td>0.00</td>\n      <td>0.000000</td>\n      <td>0.000000</td>\n      <td>0.000000</td>\n      <td>0.000000</td>\n      <td>0.0</td>\n      <td>0.000000</td>\n      <td>0.0</td>\n      <td>0.0</td>\n      <td>...</td>\n      <td>0.0</td>\n      <td>0.000000</td>\n      <td>0.0</td>\n      <td>0.0</td>\n      <td>0.0</td>\n      <td>0.0</td>\n      <td>0.000000</td>\n      <td>0.000000</td>\n      <td>0.000000</td>\n      <td>0.0</td>\n      <td>0.019608</td>\n      <td>0.000000</td>\n    </tr>\n    <tr>\n      <th>16</th>\n      <td>Hounslow</td>\n      <td>0.0</td>\n      <td>0.0</td>\n      <td>0.00</td>\n      <td>0.000000</td>\n      <td>0.000000</td>\n      <td>0.000000</td>\n      <td>0.000000</td>\n      <td>0.0</td>\n      <td>0.000000</td>\n      <td>0.0</td>\n      <td>0.0</td>\n      <td>...</td>\n      <td>0.0</td>\n      <td>0.000000</td>\n      <td>0.0</td>\n      <td>0.0</td>\n      <td>0.0</td>\n      <td>0.0</td>\n      <td>0.000000</td>\n      <td>0.000000</td>\n      <td>0.000000</td>\n      <td>0.0</td>\n      <td>0.012500</td>\n      <td>0.000000</td>\n    </tr>\n    <tr>\n      <th>17</th>\n      <td>Islington</td>\n      <td>0.0</td>\n      <td>0.0</td>\n      <td>0.01</td>\n      <td>0.000000</td>\n      <td>0.000000</td>\n      <td>0.000000</td>\n      <td>0.000000</td>\n      <td>0.0</td>\n      <td>0.000000</td>\n      <td>0.0</td>\n      <td>0.0</td>\n      <td>...</td>\n      <td>0.0</td>\n      <td>0.000000</td>\n      <td>0.0</td>\n      <td>0.0</td>\n      <td>0.0</td>\n      <td>0.0</td>\n      <td>0.000000</td>\n      <td>0.000000</td>\n      <td>0.010000</td>\n      <td>0.0</td>\n      <td>0.000000</td>\n      <td>0.010000</td>\n    </tr>\n    <tr>\n      <th>18</th>\n      <td>Kensington and Chelsea</td>\n      <td>0.0</td>\n      <td>0.0</td>\n      <td>0.00</td>\n      <td>0.000000</td>\n      <td>0.000000</td>\n      <td>0.000000</td>\n      <td>0.000000</td>\n      <td>0.0</td>\n      <td>0.000000</td>\n      <td>0.0</td>\n      <td>0.0</td>\n      <td>...</td>\n      <td>0.0</td>\n      <td>0.000000</td>\n      <td>0.0</td>\n      <td>0.0</td>\n      <td>0.0</td>\n      <td>0.0</td>\n      <td>0.000000</td>\n      <td>0.010000</td>\n      <td>0.000000</td>\n      <td>0.0</td>\n      <td>0.000000</td>\n      <td>0.010000</td>\n    </tr>\n    <tr>\n      <th>19</th>\n      <td>Kingston upon Thames</td>\n      <td>0.0</td>\n      <td>0.0</td>\n      <td>0.00</td>\n      <td>0.000000</td>\n      <td>0.000000</td>\n      <td>0.000000</td>\n      <td>0.000000</td>\n      <td>0.0</td>\n      <td>0.000000</td>\n      <td>0.0</td>\n      <td>0.0</td>\n      <td>...</td>\n      <td>0.0</td>\n      <td>0.000000</td>\n      <td>0.0</td>\n      <td>0.0</td>\n      <td>0.0</td>\n      <td>0.0</td>\n      <td>0.000000</td>\n      <td>0.000000</td>\n      <td>0.000000</td>\n      <td>0.0</td>\n      <td>0.000000</td>\n      <td>0.000000</td>\n    </tr>\n    <tr>\n      <th>20</th>\n      <td>Lambeth</td>\n      <td>0.0</td>\n      <td>0.0</td>\n      <td>0.00</td>\n      <td>0.010204</td>\n      <td>0.000000</td>\n      <td>0.000000</td>\n      <td>0.000000</td>\n      <td>0.0</td>\n      <td>0.000000</td>\n      <td>0.0</td>\n      <td>0.0</td>\n      <td>...</td>\n      <td>0.0</td>\n      <td>0.000000</td>\n      <td>0.0</td>\n      <td>0.0</td>\n      <td>0.0</td>\n      <td>0.0</td>\n      <td>0.010204</td>\n      <td>0.000000</td>\n      <td>0.000000</td>\n      <td>0.0</td>\n      <td>0.000000</td>\n      <td>0.010204</td>\n    </tr>\n    <tr>\n      <th>21</th>\n      <td>Lewisham</td>\n      <td>0.0</td>\n      <td>0.0</td>\n      <td>0.00</td>\n      <td>0.000000</td>\n      <td>0.000000</td>\n      <td>0.000000</td>\n      <td>0.000000</td>\n      <td>0.0</td>\n      <td>0.000000</td>\n      <td>0.0</td>\n      <td>0.0</td>\n      <td>...</td>\n      <td>0.0</td>\n      <td>0.019608</td>\n      <td>0.0</td>\n      <td>0.0</td>\n      <td>0.0</td>\n      <td>0.0</td>\n      <td>0.000000</td>\n      <td>0.000000</td>\n      <td>0.000000</td>\n      <td>0.0</td>\n      <td>0.000000</td>\n      <td>0.000000</td>\n    </tr>\n    <tr>\n      <th>22</th>\n      <td>Merton</td>\n      <td>0.0</td>\n      <td>0.0</td>\n      <td>0.00</td>\n      <td>0.000000</td>\n      <td>0.000000</td>\n      <td>0.000000</td>\n      <td>0.000000</td>\n      <td>0.0</td>\n      <td>0.000000</td>\n      <td>0.0</td>\n      <td>0.0</td>\n      <td>...</td>\n      <td>0.0</td>\n      <td>0.000000</td>\n      <td>0.0</td>\n      <td>0.0</td>\n      <td>0.0</td>\n      <td>0.0</td>\n      <td>0.000000</td>\n      <td>0.000000</td>\n      <td>0.000000</td>\n      <td>0.0</td>\n      <td>0.000000</td>\n      <td>0.000000</td>\n    </tr>\n    <tr>\n      <th>23</th>\n      <td>Newham</td>\n      <td>0.0</td>\n      <td>0.0</td>\n      <td>0.00</td>\n      <td>0.000000</td>\n      <td>0.017544</td>\n      <td>0.017544</td>\n      <td>0.017544</td>\n      <td>0.0</td>\n      <td>0.017544</td>\n      <td>0.0</td>\n      <td>0.0</td>\n      <td>...</td>\n      <td>0.0</td>\n      <td>0.000000</td>\n      <td>0.0</td>\n      <td>0.0</td>\n      <td>0.0</td>\n      <td>0.0</td>\n      <td>0.000000</td>\n      <td>0.017544</td>\n      <td>0.000000</td>\n      <td>0.0</td>\n      <td>0.000000</td>\n      <td>0.000000</td>\n    </tr>\n    <tr>\n      <th>24</th>\n      <td>Redbridge</td>\n      <td>0.0</td>\n      <td>0.0</td>\n      <td>0.00</td>\n      <td>0.000000</td>\n      <td>0.000000</td>\n      <td>0.000000</td>\n      <td>0.000000</td>\n      <td>0.0</td>\n      <td>0.000000</td>\n      <td>0.0</td>\n      <td>0.0</td>\n      <td>...</td>\n      <td>0.0</td>\n      <td>0.021277</td>\n      <td>0.0</td>\n      <td>0.0</td>\n      <td>0.0</td>\n      <td>0.0</td>\n      <td>0.000000</td>\n      <td>0.000000</td>\n      <td>0.000000</td>\n      <td>0.0</td>\n      <td>0.000000</td>\n      <td>0.000000</td>\n    </tr>\n    <tr>\n      <th>25</th>\n      <td>Richmond upon Thames</td>\n      <td>0.0</td>\n      <td>0.0</td>\n      <td>0.00</td>\n      <td>0.000000</td>\n      <td>0.000000</td>\n      <td>0.000000</td>\n      <td>0.000000</td>\n      <td>0.0</td>\n      <td>0.000000</td>\n      <td>0.0</td>\n      <td>0.0</td>\n      <td>...</td>\n      <td>0.0</td>\n      <td>0.000000</td>\n      <td>0.0</td>\n      <td>0.0</td>\n      <td>0.0</td>\n      <td>0.0</td>\n      <td>0.000000</td>\n      <td>0.000000</td>\n      <td>0.000000</td>\n      <td>0.0</td>\n      <td>0.000000</td>\n      <td>0.000000</td>\n    </tr>\n    <tr>\n      <th>26</th>\n      <td>Southwark</td>\n      <td>0.0</td>\n      <td>0.0</td>\n      <td>0.00</td>\n      <td>0.000000</td>\n      <td>0.000000</td>\n      <td>0.000000</td>\n      <td>0.000000</td>\n      <td>0.0</td>\n      <td>0.010000</td>\n      <td>0.0</td>\n      <td>0.0</td>\n      <td>...</td>\n      <td>0.0</td>\n      <td>0.000000</td>\n      <td>0.0</td>\n      <td>0.0</td>\n      <td>0.0</td>\n      <td>0.0</td>\n      <td>0.000000</td>\n      <td>0.030000</td>\n      <td>0.000000</td>\n      <td>0.0</td>\n      <td>0.000000</td>\n      <td>0.000000</td>\n    </tr>\n    <tr>\n      <th>27</th>\n      <td>Sutton</td>\n      <td>0.0</td>\n      <td>0.0</td>\n      <td>0.00</td>\n      <td>0.000000</td>\n      <td>0.000000</td>\n      <td>0.000000</td>\n      <td>0.000000</td>\n      <td>0.0</td>\n      <td>0.000000</td>\n      <td>0.0</td>\n      <td>0.0</td>\n      <td>...</td>\n      <td>0.0</td>\n      <td>0.020833</td>\n      <td>0.0</td>\n      <td>0.0</td>\n      <td>0.0</td>\n      <td>0.0</td>\n      <td>0.000000</td>\n      <td>0.000000</td>\n      <td>0.000000</td>\n      <td>0.0</td>\n      <td>0.000000</td>\n      <td>0.000000</td>\n    </tr>\n    <tr>\n      <th>28</th>\n      <td>Tower Hamlets</td>\n      <td>0.0</td>\n      <td>0.0</td>\n      <td>0.00</td>\n      <td>0.000000</td>\n      <td>0.000000</td>\n      <td>0.000000</td>\n      <td>0.000000</td>\n      <td>0.0</td>\n      <td>0.000000</td>\n      <td>0.0</td>\n      <td>0.0</td>\n      <td>...</td>\n      <td>0.0</td>\n      <td>0.000000</td>\n      <td>0.0</td>\n      <td>0.0</td>\n      <td>0.0</td>\n      <td>0.0</td>\n      <td>0.000000</td>\n      <td>0.000000</td>\n      <td>0.000000</td>\n      <td>0.0</td>\n      <td>0.000000</td>\n      <td>0.000000</td>\n    </tr>\n    <tr>\n      <th>29</th>\n      <td>Waltham Forest</td>\n      <td>0.0</td>\n      <td>0.0</td>\n      <td>0.00</td>\n      <td>0.000000</td>\n      <td>0.000000</td>\n      <td>0.000000</td>\n      <td>0.000000</td>\n      <td>0.0</td>\n      <td>0.000000</td>\n      <td>0.0</td>\n      <td>0.0</td>\n      <td>...</td>\n      <td>0.0</td>\n      <td>0.000000</td>\n      <td>0.0</td>\n      <td>0.0</td>\n      <td>0.0</td>\n      <td>0.0</td>\n      <td>0.000000</td>\n      <td>0.000000</td>\n      <td>0.000000</td>\n      <td>0.0</td>\n      <td>0.000000</td>\n      <td>0.000000</td>\n    </tr>\n    <tr>\n      <th>30</th>\n      <td>Wandsworth</td>\n      <td>0.0</td>\n      <td>0.0</td>\n      <td>0.00</td>\n      <td>0.000000</td>\n      <td>0.000000</td>\n      <td>0.000000</td>\n      <td>0.000000</td>\n      <td>0.0</td>\n      <td>0.000000</td>\n      <td>0.0</td>\n      <td>0.0</td>\n      <td>...</td>\n      <td>0.0</td>\n      <td>0.000000</td>\n      <td>0.0</td>\n      <td>0.0</td>\n      <td>0.0</td>\n      <td>0.0</td>\n      <td>0.000000</td>\n      <td>0.000000</td>\n      <td>0.000000</td>\n      <td>0.0</td>\n      <td>0.000000</td>\n      <td>0.000000</td>\n    </tr>\n    <tr>\n      <th>31</th>\n      <td>Westminster</td>\n      <td>0.0</td>\n      <td>0.0</td>\n      <td>0.00</td>\n      <td>0.000000</td>\n      <td>0.000000</td>\n      <td>0.000000</td>\n      <td>0.000000</td>\n      <td>0.0</td>\n      <td>0.010000</td>\n      <td>0.0</td>\n      <td>0.0</td>\n      <td>...</td>\n      <td>0.0</td>\n      <td>0.000000</td>\n      <td>0.0</td>\n      <td>0.0</td>\n      <td>0.0</td>\n      <td>0.0</td>\n      <td>0.000000</td>\n      <td>0.010000</td>\n      <td>0.010000</td>\n      <td>0.0</td>\n      <td>0.000000</td>\n      <td>0.000000</td>\n    </tr>\n  </tbody>\n</table>\n<p>32 rows \u00d7 469 columns</p>\n</div>",
                        "text/plain": "                      Area  Accessories Store  Adult Boutique  \\\n0     Barking and Dagenham                0.0             0.0   \n1                   Barnet                0.0             0.0   \n2                   Bexley                0.0             0.0   \n3                    Brent                0.0             0.0   \n4                  Bromley                0.0             0.0   \n5                   Camden                0.0             0.0   \n6                  Croydon                0.0             0.0   \n7                   Ealing                0.0             0.0   \n8                  Enfield                0.0             0.0   \n9                Greenwich                0.0             0.0   \n10                 Hackney                0.0             0.0   \n11  Hammersmith and Fulham                0.0             0.0   \n12                Haringey                0.0             0.0   \n13                  Harrow                0.0             0.0   \n14                Havering                0.0             0.0   \n15              Hillingdon                0.0             0.0   \n16                Hounslow                0.0             0.0   \n17               Islington                0.0             0.0   \n18  Kensington and Chelsea                0.0             0.0   \n19    Kingston upon Thames                0.0             0.0   \n20                 Lambeth                0.0             0.0   \n21                Lewisham                0.0             0.0   \n22                  Merton                0.0             0.0   \n23                  Newham                0.0             0.0   \n24               Redbridge                0.0             0.0   \n25    Richmond upon Thames                0.0             0.0   \n26               Southwark                0.0             0.0   \n27                  Sutton                0.0             0.0   \n28           Tower Hamlets                0.0             0.0   \n29          Waltham Forest                0.0             0.0   \n30              Wandsworth                0.0             0.0   \n31             Westminster                0.0             0.0   \n\n    Afghan Restaurant  African Restaurant   Airport  Airport Lounge  \\\n0                0.00            0.000000  0.000000        0.000000   \n1                0.00            0.000000  0.000000        0.000000   \n2                0.00            0.000000  0.000000        0.000000   \n3                0.00            0.000000  0.000000        0.000000   \n4                0.00            0.000000  0.000000        0.000000   \n5                0.00            0.000000  0.000000        0.000000   \n6                0.00            0.000000  0.000000        0.000000   \n7                0.00            0.000000  0.000000        0.000000   \n8                0.00            0.000000  0.000000        0.000000   \n9                0.00            0.013889  0.000000        0.000000   \n10               0.00            0.000000  0.000000        0.000000   \n11               0.00            0.000000  0.000000        0.000000   \n12               0.00            0.010000  0.000000        0.000000   \n13               0.00            0.000000  0.000000        0.000000   \n14               0.00            0.000000  0.000000        0.000000   \n15               0.00            0.000000  0.000000        0.000000   \n16               0.00            0.000000  0.000000        0.000000   \n17               0.01            0.000000  0.000000        0.000000   \n18               0.00            0.000000  0.000000        0.000000   \n19               0.00            0.000000  0.000000        0.000000   \n20               0.00            0.010204  0.000000        0.000000   \n21               0.00            0.000000  0.000000        0.000000   \n22               0.00            0.000000  0.000000        0.000000   \n23               0.00            0.000000  0.017544        0.017544   \n24               0.00            0.000000  0.000000        0.000000   \n25               0.00            0.000000  0.000000        0.000000   \n26               0.00            0.000000  0.000000        0.000000   \n27               0.00            0.000000  0.000000        0.000000   \n28               0.00            0.000000  0.000000        0.000000   \n29               0.00            0.000000  0.000000        0.000000   \n30               0.00            0.000000  0.000000        0.000000   \n31               0.00            0.000000  0.000000        0.000000   \n\n    Airport Service  Airport Terminal  American Restaurant  Antique Shop  \\\n0          0.000000               0.0             0.000000           0.0   \n1          0.000000               0.0             0.000000           0.0   \n2          0.000000               0.0             0.032787           0.0   \n3          0.000000               0.0             0.020000           0.0   \n4          0.000000               0.0             0.016949           0.0   \n5          0.000000               0.0             0.000000           0.0   \n6          0.000000               0.0             0.000000           0.0   \n7          0.000000               0.0             0.000000           0.0   \n8          0.000000               0.0             0.013333           0.0   \n9          0.000000               0.0             0.000000           0.0   \n10         0.000000               0.0             0.000000           0.0   \n11         0.000000               0.0             0.000000           0.0   \n12         0.000000               0.0             0.000000           0.0   \n13         0.000000               0.0             0.000000           0.0   \n14         0.000000               0.0             0.024691           0.0   \n15         0.000000               0.0             0.000000           0.0   \n16         0.000000               0.0             0.000000           0.0   \n17         0.000000               0.0             0.000000           0.0   \n18         0.000000               0.0             0.000000           0.0   \n19         0.000000               0.0             0.000000           0.0   \n20         0.000000               0.0             0.000000           0.0   \n21         0.000000               0.0             0.000000           0.0   \n22         0.000000               0.0             0.000000           0.0   \n23         0.017544               0.0             0.017544           0.0   \n24         0.000000               0.0             0.000000           0.0   \n25         0.000000               0.0             0.000000           0.0   \n26         0.000000               0.0             0.010000           0.0   \n27         0.000000               0.0             0.000000           0.0   \n28         0.000000               0.0             0.000000           0.0   \n29         0.000000               0.0             0.000000           0.0   \n30         0.000000               0.0             0.000000           0.0   \n31         0.000000               0.0             0.010000           0.0   \n\n    Arcade  ...  Volleyball Court  Warehouse Store  Waste Facility  \\\n0      0.0  ...               0.0         0.000000             0.0   \n1      0.0  ...               0.0         0.000000             0.0   \n2      0.0  ...               0.0         0.016393             0.0   \n3      0.0  ...               0.0         0.020000             0.0   \n4      0.0  ...               0.0         0.000000             0.0   \n5      0.0  ...               0.0         0.000000             0.0   \n6      0.0  ...               0.0         0.000000             0.0   \n7      0.0  ...               0.0         0.000000             0.0   \n8      0.0  ...               0.0         0.000000             0.0   \n9      0.0  ...               0.0         0.013889             0.0   \n10     0.0  ...               0.0         0.000000             0.0   \n11     0.0  ...               0.0         0.000000             0.0   \n12     0.0  ...               0.0         0.000000             0.0   \n13     0.0  ...               0.0         0.000000             0.0   \n14     0.0  ...               0.0         0.012346             0.0   \n15     0.0  ...               0.0         0.000000             0.0   \n16     0.0  ...               0.0         0.000000             0.0   \n17     0.0  ...               0.0         0.000000             0.0   \n18     0.0  ...               0.0         0.000000             0.0   \n19     0.0  ...               0.0         0.000000             0.0   \n20     0.0  ...               0.0         0.000000             0.0   \n21     0.0  ...               0.0         0.019608             0.0   \n22     0.0  ...               0.0         0.000000             0.0   \n23     0.0  ...               0.0         0.000000             0.0   \n24     0.0  ...               0.0         0.021277             0.0   \n25     0.0  ...               0.0         0.000000             0.0   \n26     0.0  ...               0.0         0.000000             0.0   \n27     0.0  ...               0.0         0.020833             0.0   \n28     0.0  ...               0.0         0.000000             0.0   \n29     0.0  ...               0.0         0.000000             0.0   \n30     0.0  ...               0.0         0.000000             0.0   \n31     0.0  ...               0.0         0.000000             0.0   \n\n    Waterfront  Weight Loss Center  Whisky Bar  Windmill  Wine Bar  Wine Shop  \\\n0          0.0                 0.0         0.0  0.000000  0.000000   0.000000   \n1          0.0                 0.0         0.0  0.000000  0.000000   0.000000   \n2          0.0                 0.0         0.0  0.000000  0.000000   0.000000   \n3          0.0                 0.0         0.0  0.000000  0.000000   0.000000   \n4          0.0                 0.0         0.0  0.000000  0.000000   0.000000   \n5          0.0                 0.0         0.0  0.000000  0.010000   0.000000   \n6          0.0                 0.0         0.0  0.000000  0.000000   0.000000   \n7          0.0                 0.0         0.0  0.000000  0.020000   0.000000   \n8          0.0                 0.0         0.0  0.000000  0.000000   0.000000   \n9          0.0                 0.0         0.0  0.000000  0.000000   0.000000   \n10         0.0                 0.0         0.0  0.000000  0.000000   0.030000   \n11         0.0                 0.0         0.0  0.000000  0.000000   0.000000   \n12         0.0                 0.0         0.0  0.000000  0.000000   0.000000   \n13         0.0                 0.0         0.0  0.000000  0.000000   0.000000   \n14         0.0                 0.0         0.0  0.000000  0.000000   0.012346   \n15         0.0                 0.0         0.0  0.000000  0.000000   0.000000   \n16         0.0                 0.0         0.0  0.000000  0.000000   0.000000   \n17         0.0                 0.0         0.0  0.000000  0.000000   0.010000   \n18         0.0                 0.0         0.0  0.000000  0.010000   0.000000   \n19         0.0                 0.0         0.0  0.000000  0.000000   0.000000   \n20         0.0                 0.0         0.0  0.010204  0.000000   0.000000   \n21         0.0                 0.0         0.0  0.000000  0.000000   0.000000   \n22         0.0                 0.0         0.0  0.000000  0.000000   0.000000   \n23         0.0                 0.0         0.0  0.000000  0.017544   0.000000   \n24         0.0                 0.0         0.0  0.000000  0.000000   0.000000   \n25         0.0                 0.0         0.0  0.000000  0.000000   0.000000   \n26         0.0                 0.0         0.0  0.000000  0.030000   0.000000   \n27         0.0                 0.0         0.0  0.000000  0.000000   0.000000   \n28         0.0                 0.0         0.0  0.000000  0.000000   0.000000   \n29         0.0                 0.0         0.0  0.000000  0.000000   0.000000   \n30         0.0                 0.0         0.0  0.000000  0.000000   0.000000   \n31         0.0                 0.0         0.0  0.000000  0.010000   0.010000   \n\n    Wings Joint  Women's Store  Yoga Studio  \n0           0.0       0.000000     0.000000  \n1           0.0       0.000000     0.000000  \n2           0.0       0.000000     0.000000  \n3           0.0       0.000000     0.000000  \n4           0.0       0.000000     0.000000  \n5           0.0       0.000000     0.000000  \n6           0.0       0.000000     0.000000  \n7           0.0       0.000000     0.000000  \n8           0.0       0.013333     0.000000  \n9           0.0       0.000000     0.000000  \n10          0.0       0.000000     0.010000  \n11          0.0       0.000000     0.000000  \n12          0.0       0.010000     0.000000  \n13          0.0       0.020408     0.000000  \n14          0.0       0.000000     0.000000  \n15          0.0       0.019608     0.000000  \n16          0.0       0.012500     0.000000  \n17          0.0       0.000000     0.010000  \n18          0.0       0.000000     0.010000  \n19          0.0       0.000000     0.000000  \n20          0.0       0.000000     0.010204  \n21          0.0       0.000000     0.000000  \n22          0.0       0.000000     0.000000  \n23          0.0       0.000000     0.000000  \n24          0.0       0.000000     0.000000  \n25          0.0       0.000000     0.000000  \n26          0.0       0.000000     0.000000  \n27          0.0       0.000000     0.000000  \n28          0.0       0.000000     0.000000  \n29          0.0       0.000000     0.000000  \n30          0.0       0.000000     0.000000  \n31          0.0       0.000000     0.000000  \n\n[32 rows x 469 columns]"
                    },
                    "execution_count": 58,
                    "metadata": {},
                    "output_type": "execute_result"
                }
            ],
            "source": "london_grouped = london_onehot.groupby('Area').mean().reset_index()\nlondon_grouped"
        },
        {
            "cell_type": "code",
            "execution_count": 75,
            "metadata": {},
            "outputs": [
                {
                    "data": {
                        "text/html": "<div>\n<style scoped>\n    .dataframe tbody tr th:only-of-type {\n        vertical-align: middle;\n    }\n\n    .dataframe tbody tr th {\n        vertical-align: top;\n    }\n\n    .dataframe thead th {\n        text-align: right;\n    }\n</style>\n<table border=\"1\" class=\"dataframe\">\n  <thead>\n    <tr style=\"text-align: right;\">\n      <th></th>\n      <th>Area</th>\n      <th>Accessories Store</th>\n      <th>Adult Boutique</th>\n      <th>Afghan Restaurant</th>\n      <th>African Restaurant</th>\n      <th>Airport</th>\n      <th>Airport Lounge</th>\n      <th>Airport Service</th>\n      <th>Airport Terminal</th>\n      <th>American Restaurant</th>\n      <th>Antique Shop</th>\n      <th>Arcade</th>\n      <th>...</th>\n      <th>Volleyball Court</th>\n      <th>Warehouse Store</th>\n      <th>Waste Facility</th>\n      <th>Waterfront</th>\n      <th>Weight Loss Center</th>\n      <th>Whisky Bar</th>\n      <th>Windmill</th>\n      <th>Wine Bar</th>\n      <th>Wine Shop</th>\n      <th>Wings Joint</th>\n      <th>Women's Store</th>\n      <th>Yoga Studio</th>\n    </tr>\n  </thead>\n  <tbody>\n    <tr>\n      <th>0</th>\n      <td>Allerton, Bronx</td>\n      <td>0.0</td>\n      <td>0.0</td>\n      <td>0.0</td>\n      <td>0.0</td>\n      <td>0.0</td>\n      <td>0.0</td>\n      <td>0.0</td>\n      <td>0.0</td>\n      <td>0.000000</td>\n      <td>0.0</td>\n      <td>0.0</td>\n      <td>...</td>\n      <td>0.0</td>\n      <td>0.0</td>\n      <td>0.0</td>\n      <td>0.0</td>\n      <td>0.0</td>\n      <td>0.0</td>\n      <td>0.0</td>\n      <td>0.00</td>\n      <td>0.000000</td>\n      <td>0.0</td>\n      <td>0.0</td>\n      <td>0.0</td>\n    </tr>\n    <tr>\n      <th>1</th>\n      <td>Annadale, Staten Island</td>\n      <td>0.0</td>\n      <td>0.0</td>\n      <td>0.0</td>\n      <td>0.0</td>\n      <td>0.0</td>\n      <td>0.0</td>\n      <td>0.0</td>\n      <td>0.0</td>\n      <td>0.181818</td>\n      <td>0.0</td>\n      <td>0.0</td>\n      <td>...</td>\n      <td>0.0</td>\n      <td>0.0</td>\n      <td>0.0</td>\n      <td>0.0</td>\n      <td>0.0</td>\n      <td>0.0</td>\n      <td>0.0</td>\n      <td>0.00</td>\n      <td>0.000000</td>\n      <td>0.0</td>\n      <td>0.0</td>\n      <td>0.0</td>\n    </tr>\n    <tr>\n      <th>2</th>\n      <td>Arden Heights, Staten Island</td>\n      <td>0.0</td>\n      <td>0.0</td>\n      <td>0.0</td>\n      <td>0.0</td>\n      <td>0.0</td>\n      <td>0.0</td>\n      <td>0.0</td>\n      <td>0.0</td>\n      <td>0.000000</td>\n      <td>0.0</td>\n      <td>0.0</td>\n      <td>...</td>\n      <td>0.0</td>\n      <td>0.0</td>\n      <td>0.0</td>\n      <td>0.0</td>\n      <td>0.0</td>\n      <td>0.0</td>\n      <td>0.0</td>\n      <td>0.00</td>\n      <td>0.000000</td>\n      <td>0.0</td>\n      <td>0.0</td>\n      <td>0.0</td>\n    </tr>\n    <tr>\n      <th>3</th>\n      <td>Arlington, Staten Island</td>\n      <td>0.0</td>\n      <td>0.0</td>\n      <td>0.0</td>\n      <td>0.0</td>\n      <td>0.0</td>\n      <td>0.0</td>\n      <td>0.0</td>\n      <td>0.0</td>\n      <td>0.000000</td>\n      <td>0.0</td>\n      <td>0.0</td>\n      <td>...</td>\n      <td>0.0</td>\n      <td>0.0</td>\n      <td>0.0</td>\n      <td>0.0</td>\n      <td>0.0</td>\n      <td>0.0</td>\n      <td>0.0</td>\n      <td>0.00</td>\n      <td>0.000000</td>\n      <td>0.0</td>\n      <td>0.0</td>\n      <td>0.0</td>\n    </tr>\n    <tr>\n      <th>4</th>\n      <td>Arrochar, Staten Island</td>\n      <td>0.0</td>\n      <td>0.0</td>\n      <td>0.0</td>\n      <td>0.0</td>\n      <td>0.0</td>\n      <td>0.0</td>\n      <td>0.0</td>\n      <td>0.0</td>\n      <td>0.000000</td>\n      <td>0.0</td>\n      <td>0.0</td>\n      <td>...</td>\n      <td>0.0</td>\n      <td>0.0</td>\n      <td>0.0</td>\n      <td>0.0</td>\n      <td>0.0</td>\n      <td>0.0</td>\n      <td>0.0</td>\n      <td>0.00</td>\n      <td>0.000000</td>\n      <td>0.0</td>\n      <td>0.0</td>\n      <td>0.0</td>\n    </tr>\n    <tr>\n      <th>...</th>\n      <td>...</td>\n      <td>...</td>\n      <td>...</td>\n      <td>...</td>\n      <td>...</td>\n      <td>...</td>\n      <td>...</td>\n      <td>...</td>\n      <td>...</td>\n      <td>...</td>\n      <td>...</td>\n      <td>...</td>\n      <td>...</td>\n      <td>...</td>\n      <td>...</td>\n      <td>...</td>\n      <td>...</td>\n      <td>...</td>\n      <td>...</td>\n      <td>...</td>\n      <td>...</td>\n      <td>...</td>\n      <td>...</td>\n      <td>...</td>\n      <td>...</td>\n    </tr>\n    <tr>\n      <th>301</th>\n      <td>Woodhaven, Queens</td>\n      <td>0.0</td>\n      <td>0.0</td>\n      <td>0.0</td>\n      <td>0.0</td>\n      <td>0.0</td>\n      <td>0.0</td>\n      <td>0.0</td>\n      <td>0.0</td>\n      <td>0.000000</td>\n      <td>0.0</td>\n      <td>0.0</td>\n      <td>...</td>\n      <td>0.0</td>\n      <td>0.0</td>\n      <td>0.0</td>\n      <td>0.0</td>\n      <td>0.0</td>\n      <td>0.0</td>\n      <td>0.0</td>\n      <td>0.00</td>\n      <td>0.000000</td>\n      <td>0.0</td>\n      <td>0.0</td>\n      <td>0.0</td>\n    </tr>\n    <tr>\n      <th>302</th>\n      <td>Woodlawn, Bronx</td>\n      <td>0.0</td>\n      <td>0.0</td>\n      <td>0.0</td>\n      <td>0.0</td>\n      <td>0.0</td>\n      <td>0.0</td>\n      <td>0.0</td>\n      <td>0.0</td>\n      <td>0.000000</td>\n      <td>0.0</td>\n      <td>0.0</td>\n      <td>...</td>\n      <td>0.0</td>\n      <td>0.0</td>\n      <td>0.0</td>\n      <td>0.0</td>\n      <td>0.0</td>\n      <td>0.0</td>\n      <td>0.0</td>\n      <td>0.00</td>\n      <td>0.000000</td>\n      <td>0.0</td>\n      <td>0.0</td>\n      <td>0.0</td>\n    </tr>\n    <tr>\n      <th>303</th>\n      <td>Woodrow, Staten Island</td>\n      <td>0.0</td>\n      <td>0.0</td>\n      <td>0.0</td>\n      <td>0.0</td>\n      <td>0.0</td>\n      <td>0.0</td>\n      <td>0.0</td>\n      <td>0.0</td>\n      <td>0.000000</td>\n      <td>0.0</td>\n      <td>0.0</td>\n      <td>...</td>\n      <td>0.0</td>\n      <td>0.0</td>\n      <td>0.0</td>\n      <td>0.0</td>\n      <td>0.0</td>\n      <td>0.0</td>\n      <td>0.0</td>\n      <td>0.00</td>\n      <td>0.000000</td>\n      <td>0.0</td>\n      <td>0.0</td>\n      <td>0.0</td>\n    </tr>\n    <tr>\n      <th>304</th>\n      <td>Woodside, Queens</td>\n      <td>0.0</td>\n      <td>0.0</td>\n      <td>0.0</td>\n      <td>0.0</td>\n      <td>0.0</td>\n      <td>0.0</td>\n      <td>0.0</td>\n      <td>0.0</td>\n      <td>0.040000</td>\n      <td>0.0</td>\n      <td>0.0</td>\n      <td>...</td>\n      <td>0.0</td>\n      <td>0.0</td>\n      <td>0.0</td>\n      <td>0.0</td>\n      <td>0.0</td>\n      <td>0.0</td>\n      <td>0.0</td>\n      <td>0.00</td>\n      <td>0.013333</td>\n      <td>0.0</td>\n      <td>0.0</td>\n      <td>0.0</td>\n    </tr>\n    <tr>\n      <th>305</th>\n      <td>Yorkville, Manhattan</td>\n      <td>0.0</td>\n      <td>0.0</td>\n      <td>0.0</td>\n      <td>0.0</td>\n      <td>0.0</td>\n      <td>0.0</td>\n      <td>0.0</td>\n      <td>0.0</td>\n      <td>0.000000</td>\n      <td>0.0</td>\n      <td>0.0</td>\n      <td>...</td>\n      <td>0.0</td>\n      <td>0.0</td>\n      <td>0.0</td>\n      <td>0.0</td>\n      <td>0.0</td>\n      <td>0.0</td>\n      <td>0.0</td>\n      <td>0.01</td>\n      <td>0.030000</td>\n      <td>0.0</td>\n      <td>0.0</td>\n      <td>0.0</td>\n    </tr>\n  </tbody>\n</table>\n<p>306 rows \u00d7 469 columns</p>\n</div>",
                        "text/plain": "                             Area  Accessories Store  Adult Boutique  \\\n0                 Allerton, Bronx                0.0             0.0   \n1         Annadale, Staten Island                0.0             0.0   \n2    Arden Heights, Staten Island                0.0             0.0   \n3        Arlington, Staten Island                0.0             0.0   \n4         Arrochar, Staten Island                0.0             0.0   \n..                            ...                ...             ...   \n301             Woodhaven, Queens                0.0             0.0   \n302               Woodlawn, Bronx                0.0             0.0   \n303        Woodrow, Staten Island                0.0             0.0   \n304              Woodside, Queens                0.0             0.0   \n305          Yorkville, Manhattan                0.0             0.0   \n\n     Afghan Restaurant  African Restaurant  Airport  Airport Lounge  \\\n0                  0.0                 0.0      0.0             0.0   \n1                  0.0                 0.0      0.0             0.0   \n2                  0.0                 0.0      0.0             0.0   \n3                  0.0                 0.0      0.0             0.0   \n4                  0.0                 0.0      0.0             0.0   \n..                 ...                 ...      ...             ...   \n301                0.0                 0.0      0.0             0.0   \n302                0.0                 0.0      0.0             0.0   \n303                0.0                 0.0      0.0             0.0   \n304                0.0                 0.0      0.0             0.0   \n305                0.0                 0.0      0.0             0.0   \n\n     Airport Service  Airport Terminal  American Restaurant  Antique Shop  \\\n0                0.0               0.0             0.000000           0.0   \n1                0.0               0.0             0.181818           0.0   \n2                0.0               0.0             0.000000           0.0   \n3                0.0               0.0             0.000000           0.0   \n4                0.0               0.0             0.000000           0.0   \n..               ...               ...                  ...           ...   \n301              0.0               0.0             0.000000           0.0   \n302              0.0               0.0             0.000000           0.0   \n303              0.0               0.0             0.000000           0.0   \n304              0.0               0.0             0.040000           0.0   \n305              0.0               0.0             0.000000           0.0   \n\n     Arcade  ...  Volleyball Court  Warehouse Store  Waste Facility  \\\n0       0.0  ...               0.0              0.0             0.0   \n1       0.0  ...               0.0              0.0             0.0   \n2       0.0  ...               0.0              0.0             0.0   \n3       0.0  ...               0.0              0.0             0.0   \n4       0.0  ...               0.0              0.0             0.0   \n..      ...  ...               ...              ...             ...   \n301     0.0  ...               0.0              0.0             0.0   \n302     0.0  ...               0.0              0.0             0.0   \n303     0.0  ...               0.0              0.0             0.0   \n304     0.0  ...               0.0              0.0             0.0   \n305     0.0  ...               0.0              0.0             0.0   \n\n     Waterfront  Weight Loss Center  Whisky Bar  Windmill  Wine Bar  \\\n0           0.0                 0.0         0.0       0.0      0.00   \n1           0.0                 0.0         0.0       0.0      0.00   \n2           0.0                 0.0         0.0       0.0      0.00   \n3           0.0                 0.0         0.0       0.0      0.00   \n4           0.0                 0.0         0.0       0.0      0.00   \n..          ...                 ...         ...       ...       ...   \n301         0.0                 0.0         0.0       0.0      0.00   \n302         0.0                 0.0         0.0       0.0      0.00   \n303         0.0                 0.0         0.0       0.0      0.00   \n304         0.0                 0.0         0.0       0.0      0.00   \n305         0.0                 0.0         0.0       0.0      0.01   \n\n     Wine Shop  Wings Joint  Women's Store  Yoga Studio  \n0     0.000000          0.0            0.0          0.0  \n1     0.000000          0.0            0.0          0.0  \n2     0.000000          0.0            0.0          0.0  \n3     0.000000          0.0            0.0          0.0  \n4     0.000000          0.0            0.0          0.0  \n..         ...          ...            ...          ...  \n301   0.000000          0.0            0.0          0.0  \n302   0.000000          0.0            0.0          0.0  \n303   0.000000          0.0            0.0          0.0  \n304   0.013333          0.0            0.0          0.0  \n305   0.030000          0.0            0.0          0.0  \n\n[306 rows x 469 columns]"
                    },
                    "execution_count": 75,
                    "metadata": {},
                    "output_type": "execute_result"
                }
            ],
            "source": "ny_grouped = ny_onehot.groupby('Area').mean().reset_index()\nny_grouped"
        },
        {
            "cell_type": "markdown",
            "metadata": {},
            "source": "### Name NY Feature Data set at X and Borough"
        },
        {
            "cell_type": "markdown",
            "metadata": {},
            "source": "Rename areas back to Neighbourhood name and Borough name"
        },
        {
            "cell_type": "code",
            "execution_count": 76,
            "metadata": {},
            "outputs": [],
            "source": "#Remove \", \" to translate NY Areas back into Neighborhood name and Borough, note there is a column called Neighborhood already\nny_grouped['Neighborhood Name'] = [area.split(\", \")[0] for area in ny_grouped['Area']]\nny_grouped['Borough Name'] = [area.split(\", \")[-1] for area in ny_grouped['Area']]\nny_grouped.drop(columns=['Area'],inplace=True)\n\n# move Neighbourhood and Borough column to the first and second column\nfixed_columns = [ny_grouped.columns[-2]] + [ny_grouped.columns[-1]] + list(ny_grouped.columns[:-2])\nny_grouped = ny_grouped[fixed_columns]"
        },
        {
            "cell_type": "markdown",
            "metadata": {},
            "source": "Lets see the data"
        },
        {
            "cell_type": "code",
            "execution_count": 77,
            "metadata": {
                "scrolled": true
            },
            "outputs": [
                {
                    "data": {
                        "text/html": "<div>\n<style scoped>\n    .dataframe tbody tr th:only-of-type {\n        vertical-align: middle;\n    }\n\n    .dataframe tbody tr th {\n        vertical-align: top;\n    }\n\n    .dataframe thead th {\n        text-align: right;\n    }\n</style>\n<table border=\"1\" class=\"dataframe\">\n  <thead>\n    <tr style=\"text-align: right;\">\n      <th></th>\n      <th>Neighborhood Name</th>\n      <th>Borough Name</th>\n      <th>Accessories Store</th>\n      <th>Adult Boutique</th>\n      <th>Afghan Restaurant</th>\n      <th>African Restaurant</th>\n      <th>Airport</th>\n      <th>Airport Lounge</th>\n      <th>Airport Service</th>\n      <th>Airport Terminal</th>\n      <th>American Restaurant</th>\n      <th>Antique Shop</th>\n      <th>...</th>\n      <th>Volleyball Court</th>\n      <th>Warehouse Store</th>\n      <th>Waste Facility</th>\n      <th>Waterfront</th>\n      <th>Weight Loss Center</th>\n      <th>Whisky Bar</th>\n      <th>Windmill</th>\n      <th>Wine Bar</th>\n      <th>Wine Shop</th>\n      <th>Wings Joint</th>\n      <th>Women's Store</th>\n      <th>Yoga Studio</th>\n    </tr>\n  </thead>\n  <tbody>\n    <tr>\n      <th>0</th>\n      <td>Allerton</td>\n      <td>Bronx</td>\n      <td>0.0</td>\n      <td>0.0</td>\n      <td>0.0</td>\n      <td>0.0</td>\n      <td>0.0</td>\n      <td>0.0</td>\n      <td>0.0</td>\n      <td>0.0</td>\n      <td>0.000000</td>\n      <td>0.0</td>\n      <td>...</td>\n      <td>0.0</td>\n      <td>0.0</td>\n      <td>0.0</td>\n      <td>0.0</td>\n      <td>0.0</td>\n      <td>0.0</td>\n      <td>0.0</td>\n      <td>0.0</td>\n      <td>0.0</td>\n      <td>0.0</td>\n      <td>0.0</td>\n      <td>0.0</td>\n    </tr>\n    <tr>\n      <th>1</th>\n      <td>Annadale</td>\n      <td>Staten Island</td>\n      <td>0.0</td>\n      <td>0.0</td>\n      <td>0.0</td>\n      <td>0.0</td>\n      <td>0.0</td>\n      <td>0.0</td>\n      <td>0.0</td>\n      <td>0.0</td>\n      <td>0.181818</td>\n      <td>0.0</td>\n      <td>...</td>\n      <td>0.0</td>\n      <td>0.0</td>\n      <td>0.0</td>\n      <td>0.0</td>\n      <td>0.0</td>\n      <td>0.0</td>\n      <td>0.0</td>\n      <td>0.0</td>\n      <td>0.0</td>\n      <td>0.0</td>\n      <td>0.0</td>\n      <td>0.0</td>\n    </tr>\n    <tr>\n      <th>2</th>\n      <td>Arden Heights</td>\n      <td>Staten Island</td>\n      <td>0.0</td>\n      <td>0.0</td>\n      <td>0.0</td>\n      <td>0.0</td>\n      <td>0.0</td>\n      <td>0.0</td>\n      <td>0.0</td>\n      <td>0.0</td>\n      <td>0.000000</td>\n      <td>0.0</td>\n      <td>...</td>\n      <td>0.0</td>\n      <td>0.0</td>\n      <td>0.0</td>\n      <td>0.0</td>\n      <td>0.0</td>\n      <td>0.0</td>\n      <td>0.0</td>\n      <td>0.0</td>\n      <td>0.0</td>\n      <td>0.0</td>\n      <td>0.0</td>\n      <td>0.0</td>\n    </tr>\n    <tr>\n      <th>3</th>\n      <td>Arlington</td>\n      <td>Staten Island</td>\n      <td>0.0</td>\n      <td>0.0</td>\n      <td>0.0</td>\n      <td>0.0</td>\n      <td>0.0</td>\n      <td>0.0</td>\n      <td>0.0</td>\n      <td>0.0</td>\n      <td>0.000000</td>\n      <td>0.0</td>\n      <td>...</td>\n      <td>0.0</td>\n      <td>0.0</td>\n      <td>0.0</td>\n      <td>0.0</td>\n      <td>0.0</td>\n      <td>0.0</td>\n      <td>0.0</td>\n      <td>0.0</td>\n      <td>0.0</td>\n      <td>0.0</td>\n      <td>0.0</td>\n      <td>0.0</td>\n    </tr>\n    <tr>\n      <th>4</th>\n      <td>Arrochar</td>\n      <td>Staten Island</td>\n      <td>0.0</td>\n      <td>0.0</td>\n      <td>0.0</td>\n      <td>0.0</td>\n      <td>0.0</td>\n      <td>0.0</td>\n      <td>0.0</td>\n      <td>0.0</td>\n      <td>0.000000</td>\n      <td>0.0</td>\n      <td>...</td>\n      <td>0.0</td>\n      <td>0.0</td>\n      <td>0.0</td>\n      <td>0.0</td>\n      <td>0.0</td>\n      <td>0.0</td>\n      <td>0.0</td>\n      <td>0.0</td>\n      <td>0.0</td>\n      <td>0.0</td>\n      <td>0.0</td>\n      <td>0.0</td>\n    </tr>\n  </tbody>\n</table>\n<p>5 rows \u00d7 470 columns</p>\n</div>",
                        "text/plain": "  Neighborhood Name   Borough Name  Accessories Store  Adult Boutique  \\\n0          Allerton          Bronx                0.0             0.0   \n1          Annadale  Staten Island                0.0             0.0   \n2     Arden Heights  Staten Island                0.0             0.0   \n3         Arlington  Staten Island                0.0             0.0   \n4          Arrochar  Staten Island                0.0             0.0   \n\n   Afghan Restaurant  African Restaurant  Airport  Airport Lounge  \\\n0                0.0                 0.0      0.0             0.0   \n1                0.0                 0.0      0.0             0.0   \n2                0.0                 0.0      0.0             0.0   \n3                0.0                 0.0      0.0             0.0   \n4                0.0                 0.0      0.0             0.0   \n\n   Airport Service  Airport Terminal  American Restaurant  Antique Shop  ...  \\\n0              0.0               0.0             0.000000           0.0  ...   \n1              0.0               0.0             0.181818           0.0  ...   \n2              0.0               0.0             0.000000           0.0  ...   \n3              0.0               0.0             0.000000           0.0  ...   \n4              0.0               0.0             0.000000           0.0  ...   \n\n   Volleyball Court  Warehouse Store  Waste Facility  Waterfront  \\\n0               0.0              0.0             0.0         0.0   \n1               0.0              0.0             0.0         0.0   \n2               0.0              0.0             0.0         0.0   \n3               0.0              0.0             0.0         0.0   \n4               0.0              0.0             0.0         0.0   \n\n   Weight Loss Center  Whisky Bar  Windmill  Wine Bar  Wine Shop  Wings Joint  \\\n0                 0.0         0.0       0.0       0.0        0.0          0.0   \n1                 0.0         0.0       0.0       0.0        0.0          0.0   \n2                 0.0         0.0       0.0       0.0        0.0          0.0   \n3                 0.0         0.0       0.0       0.0        0.0          0.0   \n4                 0.0         0.0       0.0       0.0        0.0          0.0   \n\n   Women's Store  Yoga Studio  \n0            0.0          0.0  \n1            0.0          0.0  \n2            0.0          0.0  \n3            0.0          0.0  \n4            0.0          0.0  \n\n[5 rows x 470 columns]"
                    },
                    "execution_count": 77,
                    "metadata": {},
                    "output_type": "execute_result"
                }
            ],
            "source": "ny_grouped.head()"
        },
        {
            "cell_type": "markdown",
            "metadata": {},
            "source": "Split the New York data into X and y data"
        },
        {
            "cell_type": "code",
            "execution_count": 81,
            "metadata": {},
            "outputs": [],
            "source": "X = ny_grouped.drop(columns=['Borough Name', 'Neighborhood Name'])\n# Encode y as a category\ny = ny_grouped['Borough Name'].astype('category')"
        },
        {
            "cell_type": "markdown",
            "metadata": {},
            "source": "y is encoded using the categoy type"
        },
        {
            "cell_type": "code",
            "execution_count": 82,
            "metadata": {},
            "outputs": [],
            "source": "y = y.astype('category')"
        },
        {
            "cell_type": "markdown",
            "metadata": {},
            "source": "y.cat.code reveals an encoded y"
        },
        {
            "cell_type": "code",
            "execution_count": 83,
            "metadata": {},
            "outputs": [
                {
                    "data": {
                        "text/plain": "0      0\n1      4\n2      4\n3      4\n4      4\n      ..\n301    3\n302    0\n303    4\n304    3\n305    2\nLength: 306, dtype: int8"
                    },
                    "execution_count": 83,
                    "metadata": {},
                    "output_type": "execute_result"
                }
            ],
            "source": "y.cat.codes"
        },
        {
            "cell_type": "markdown",
            "metadata": {},
            "source": "y.cat.categories reveal the encoding."
        },
        {
            "cell_type": "code",
            "execution_count": 225,
            "metadata": {},
            "outputs": [
                {
                    "data": {
                        "text/plain": "Index(['Bronx', 'Brooklyn', 'Manhattan', 'Queens', 'Staten Island'], dtype='object')"
                    },
                    "execution_count": 225,
                    "metadata": {},
                    "output_type": "execute_result"
                }
            ],
            "source": "y.cat.categories"
        },
        {
            "cell_type": "markdown",
            "metadata": {},
            "source": "* Bronx = 0\n* Brooklyn = 1\n* Manhatten = 2\n* Queens = 3\n* Staten Island = 4"
        },
        {
            "cell_type": "markdown",
            "metadata": {},
            "source": "### Split the NY data into train, cross_validation set"
        },
        {
            "cell_type": "markdown",
            "metadata": {},
            "source": "Split our New York data into train (70%) and cross validation (30%) sets "
        },
        {
            "cell_type": "code",
            "execution_count": 154,
            "metadata": {},
            "outputs": [],
            "source": "from sklearn.model_selection import train_test_split\nX_train, X_cv, y_train, y_cv = train_test_split(X, y, test_size=0.3, random_state=3)"
        },
        {
            "cell_type": "markdown",
            "metadata": {},
            "source": "### Name London features as X_test"
        },
        {
            "cell_type": "markdown",
            "metadata": {},
            "source": "Drop area name from dataset to leave just the features"
        },
        {
            "cell_type": "code",
            "execution_count": 155,
            "metadata": {},
            "outputs": [],
            "source": "X_test = london_grouped.drop(columns=['Area'])"
        },
        {
            "cell_type": "markdown",
            "metadata": {},
            "source": "### Run the KNN model for various k values"
        },
        {
            "cell_type": "code",
            "execution_count": 156,
            "metadata": {},
            "outputs": [
                {
                    "data": {
                        "text/plain": "array([0.32608696, 0.29347826, 0.35869565, 0.35869565, 0.34782609,\n       0.31521739, 0.40217391, 0.40217391, 0.39130435])"
                    },
                    "execution_count": 156,
                    "metadata": {},
                    "output_type": "execute_result"
                }
            ],
            "source": "Ks = 10\nmean_acc = np.zeros((Ks-1))\nstd_acc = np.zeros((Ks-1))\nConfustionMx = [];\nfor n in range(1,Ks):\n    \n    #Train Model and Predict  \n    neigh = KNeighborsClassifier(n_neighbors = n).fit(X_train,y_train)\n    yhat=neigh.predict(X_cv)\n    mean_acc[n-1] = metrics.accuracy_score(y_cv, yhat)   \n    std_acc[n-1]=np.std(yhat==y_cv)/np.sqrt(yhat.shape[0])\n\nmean_acc"
        },
        {
            "cell_type": "markdown",
            "metadata": {},
            "source": "### Select best K value using the cross validation data set"
        },
        {
            "cell_type": "markdown",
            "metadata": {},
            "source": "Plot  model accuracy  for Different number of Neighbors"
        },
        {
            "cell_type": "code",
            "execution_count": 157,
            "metadata": {},
            "outputs": [
                {
                    "data": {
                        "image/png": "[encoded data removed]",
                        "text/plain": "<Figure size 432x288 with 1 Axes>"
                    },
                    "metadata": {
                        "needs_background": "light"
                    },
                    "output_type": "display_data"
                }
            ],
            "source": "plt.plot(range(1,Ks),mean_acc,'g')\nplt.fill_between(range(1,Ks),mean_acc - 3 * std_acc,mean_acc + 3 * std_acc, alpha=0.10)\nplt.legend(('Accuracy ', '+/- 3xstd'))\nplt.ylabel('Accuracy ')\nplt.xlabel('Number of Nabors (K)')\nplt.tight_layout()\nplt.show()"
        },
        {
            "cell_type": "code",
            "execution_count": 158,
            "metadata": {},
            "outputs": [
                {
                    "name": "stdout",
                    "output_type": "stream",
                    "text": "The best accuracy was with 0.40217391304347827 with k= 7\n"
                }
            ],
            "source": "print( \"The best accuracy was with\", mean_acc.max(), \"with k=\", mean_acc.argmax()+1) "
        },
        {
            "cell_type": "markdown",
            "metadata": {},
            "source": "### Use the model with k=7 to predict London Boroughs"
        },
        {
            "cell_type": "markdown",
            "metadata": {},
            "source": "Given that a k=7 gave the most accurate predictions of New York Boroughs, use this to indicate what New York Borough each London Borough is most similar to."
        },
        {
            "cell_type": "code",
            "execution_count": 159,
            "metadata": {},
            "outputs": [
                {
                    "data": {
                        "text/plain": "array(['Manhattan', 'Brooklyn', 'Manhattan', 'Manhattan', 'Manhattan',\n       'Manhattan', 'Manhattan', 'Manhattan', 'Manhattan', 'Manhattan',\n       'Manhattan', 'Manhattan', 'Manhattan', 'Manhattan', 'Manhattan',\n       'Brooklyn', 'Manhattan', 'Manhattan', 'Manhattan', 'Manhattan',\n       'Manhattan', 'Manhattan', 'Manhattan', 'Manhattan', 'Manhattan',\n       'Manhattan', 'Manhattan', 'Manhattan', 'Manhattan', 'Manhattan',\n       'Manhattan', 'Manhattan'], dtype=object)"
                    },
                    "execution_count": 159,
                    "metadata": {},
                    "output_type": "execute_result"
                }
            ],
            "source": "k=7   \n#Train Model and Predict  \nneigh = KNeighborsClassifier(n_neighbors = k).fit(X_train, y_train)\nyhat=neigh.predict(X_test)\nyhat"
        },
        {
            "cell_type": "code",
            "execution_count": 162,
            "metadata": {},
            "outputs": [],
            "source": "london_boroughs['NY Similar Borough'] = yhat"
        },
        {
            "cell_type": "code",
            "execution_count": 163,
            "metadata": {},
            "outputs": [
                {
                    "data": {
                        "text/html": "<div>\n<style scoped>\n    .dataframe tbody tr th:only-of-type {\n        vertical-align: middle;\n    }\n\n    .dataframe tbody tr th {\n        vertical-align: top;\n    }\n\n    .dataframe thead th {\n        text-align: right;\n    }\n</style>\n<table border=\"1\" class=\"dataframe\">\n  <thead>\n    <tr style=\"text-align: right;\">\n      <th></th>\n      <th>Borough</th>\n      <th>Latitude</th>\n      <th>Longitude</th>\n      <th>NY Similar Borough</th>\n    </tr>\n  </thead>\n  <tbody>\n    <tr>\n      <th>0</th>\n      <td>Barking and Dagenham</td>\n      <td>51.5607</td>\n      <td>0.1557</td>\n      <td>Manhattan</td>\n    </tr>\n    <tr>\n      <th>1</th>\n      <td>Barnet</td>\n      <td>51.6252</td>\n      <td>-0.1517</td>\n      <td>Brooklyn</td>\n    </tr>\n    <tr>\n      <th>2</th>\n      <td>Bexley</td>\n      <td>51.4549</td>\n      <td>0.1505</td>\n      <td>Manhattan</td>\n    </tr>\n    <tr>\n      <th>3</th>\n      <td>Brent</td>\n      <td>51.5588</td>\n      <td>-0.2817</td>\n      <td>Manhattan</td>\n    </tr>\n    <tr>\n      <th>4</th>\n      <td>Bromley</td>\n      <td>51.4039</td>\n      <td>0.0198</td>\n      <td>Manhattan</td>\n    </tr>\n    <tr>\n      <th>5</th>\n      <td>Camden</td>\n      <td>51.5290</td>\n      <td>-0.1255</td>\n      <td>Manhattan</td>\n    </tr>\n    <tr>\n      <th>6</th>\n      <td>Croydon</td>\n      <td>51.3714</td>\n      <td>-0.0977</td>\n      <td>Manhattan</td>\n    </tr>\n    <tr>\n      <th>7</th>\n      <td>Ealing</td>\n      <td>51.5130</td>\n      <td>-0.3089</td>\n      <td>Manhattan</td>\n    </tr>\n    <tr>\n      <th>8</th>\n      <td>Enfield</td>\n      <td>51.6538</td>\n      <td>-0.0799</td>\n      <td>Manhattan</td>\n    </tr>\n    <tr>\n      <th>9</th>\n      <td>Greenwich</td>\n      <td>51.4892</td>\n      <td>0.0648</td>\n      <td>Manhattan</td>\n    </tr>\n    <tr>\n      <th>10</th>\n      <td>Hackney</td>\n      <td>51.5450</td>\n      <td>-0.0553</td>\n      <td>Manhattan</td>\n    </tr>\n    <tr>\n      <th>11</th>\n      <td>Hammersmith and Fulham</td>\n      <td>51.4927</td>\n      <td>-0.2339</td>\n      <td>Manhattan</td>\n    </tr>\n    <tr>\n      <th>12</th>\n      <td>Haringey</td>\n      <td>51.6000</td>\n      <td>-0.1119</td>\n      <td>Manhattan</td>\n    </tr>\n    <tr>\n      <th>13</th>\n      <td>Harrow</td>\n      <td>51.5898</td>\n      <td>-0.3346</td>\n      <td>Manhattan</td>\n    </tr>\n    <tr>\n      <th>14</th>\n      <td>Havering</td>\n      <td>51.5812</td>\n      <td>0.1837</td>\n      <td>Manhattan</td>\n    </tr>\n    <tr>\n      <th>15</th>\n      <td>Hillingdon</td>\n      <td>51.5441</td>\n      <td>-0.4760</td>\n      <td>Brooklyn</td>\n    </tr>\n    <tr>\n      <th>16</th>\n      <td>Hounslow</td>\n      <td>51.4746</td>\n      <td>-0.3680</td>\n      <td>Manhattan</td>\n    </tr>\n    <tr>\n      <th>17</th>\n      <td>Islington</td>\n      <td>51.5416</td>\n      <td>-0.1022</td>\n      <td>Manhattan</td>\n    </tr>\n    <tr>\n      <th>18</th>\n      <td>Kensington and Chelsea</td>\n      <td>51.5020</td>\n      <td>-0.1947</td>\n      <td>Manhattan</td>\n    </tr>\n    <tr>\n      <th>19</th>\n      <td>Kingston upon Thames</td>\n      <td>51.4085</td>\n      <td>-0.3064</td>\n      <td>Manhattan</td>\n    </tr>\n    <tr>\n      <th>20</th>\n      <td>Lambeth</td>\n      <td>51.4607</td>\n      <td>-0.1163</td>\n      <td>Manhattan</td>\n    </tr>\n    <tr>\n      <th>21</th>\n      <td>Lewisham</td>\n      <td>51.4452</td>\n      <td>-0.0209</td>\n      <td>Manhattan</td>\n    </tr>\n    <tr>\n      <th>22</th>\n      <td>Merton</td>\n      <td>51.4014</td>\n      <td>-0.1958</td>\n      <td>Manhattan</td>\n    </tr>\n    <tr>\n      <th>23</th>\n      <td>Newham</td>\n      <td>51.5077</td>\n      <td>0.0469</td>\n      <td>Manhattan</td>\n    </tr>\n    <tr>\n      <th>24</th>\n      <td>Redbridge</td>\n      <td>51.5590</td>\n      <td>0.0741</td>\n      <td>Manhattan</td>\n    </tr>\n    <tr>\n      <th>25</th>\n      <td>Richmond upon Thames</td>\n      <td>51.4479</td>\n      <td>-0.3260</td>\n      <td>Manhattan</td>\n    </tr>\n    <tr>\n      <th>26</th>\n      <td>Southwark</td>\n      <td>51.5035</td>\n      <td>-0.0804</td>\n      <td>Manhattan</td>\n    </tr>\n    <tr>\n      <th>27</th>\n      <td>Sutton</td>\n      <td>51.3618</td>\n      <td>-0.1945</td>\n      <td>Manhattan</td>\n    </tr>\n    <tr>\n      <th>28</th>\n      <td>Tower Hamlets</td>\n      <td>51.5099</td>\n      <td>-0.0059</td>\n      <td>Manhattan</td>\n    </tr>\n    <tr>\n      <th>29</th>\n      <td>Waltham Forest</td>\n      <td>51.5908</td>\n      <td>-0.0134</td>\n      <td>Manhattan</td>\n    </tr>\n    <tr>\n      <th>30</th>\n      <td>Wandsworth</td>\n      <td>51.4567</td>\n      <td>-0.1910</td>\n      <td>Manhattan</td>\n    </tr>\n    <tr>\n      <th>31</th>\n      <td>Westminster</td>\n      <td>51.4973</td>\n      <td>-0.1372</td>\n      <td>Manhattan</td>\n    </tr>\n  </tbody>\n</table>\n</div>",
                        "text/plain": "                   Borough  Latitude  Longitude NY Similar Borough\n0     Barking and Dagenham   51.5607     0.1557          Manhattan\n1                   Barnet   51.6252    -0.1517           Brooklyn\n2                   Bexley   51.4549     0.1505          Manhattan\n3                    Brent   51.5588    -0.2817          Manhattan\n4                  Bromley   51.4039     0.0198          Manhattan\n5                   Camden   51.5290    -0.1255          Manhattan\n6                  Croydon   51.3714    -0.0977          Manhattan\n7                   Ealing   51.5130    -0.3089          Manhattan\n8                  Enfield   51.6538    -0.0799          Manhattan\n9                Greenwich   51.4892     0.0648          Manhattan\n10                 Hackney   51.5450    -0.0553          Manhattan\n11  Hammersmith and Fulham   51.4927    -0.2339          Manhattan\n12                Haringey   51.6000    -0.1119          Manhattan\n13                  Harrow   51.5898    -0.3346          Manhattan\n14                Havering   51.5812     0.1837          Manhattan\n15              Hillingdon   51.5441    -0.4760           Brooklyn\n16                Hounslow   51.4746    -0.3680          Manhattan\n17               Islington   51.5416    -0.1022          Manhattan\n18  Kensington and Chelsea   51.5020    -0.1947          Manhattan\n19    Kingston upon Thames   51.4085    -0.3064          Manhattan\n20                 Lambeth   51.4607    -0.1163          Manhattan\n21                Lewisham   51.4452    -0.0209          Manhattan\n22                  Merton   51.4014    -0.1958          Manhattan\n23                  Newham   51.5077     0.0469          Manhattan\n24               Redbridge   51.5590     0.0741          Manhattan\n25    Richmond upon Thames   51.4479    -0.3260          Manhattan\n26               Southwark   51.5035    -0.0804          Manhattan\n27                  Sutton   51.3618    -0.1945          Manhattan\n28           Tower Hamlets   51.5099    -0.0059          Manhattan\n29          Waltham Forest   51.5908    -0.0134          Manhattan\n30              Wandsworth   51.4567    -0.1910          Manhattan\n31             Westminster   51.4973    -0.1372          Manhattan"
                    },
                    "execution_count": 163,
                    "metadata": {},
                    "output_type": "execute_result"
                }
            ],
            "source": "london_boroughs"
        },
        {
            "cell_type": "markdown",
            "metadata": {},
            "source": "According to this mode KNN model, most London boroughs are most similar to Manhattan (other than Barnet and Hillingdon - which are most similar to Brooklyn)"
        },
        {
            "cell_type": "markdown",
            "metadata": {},
            "source": "### Filter to Boroughs which are like Manhattan"
        },
        {
            "cell_type": "code",
            "execution_count": 165,
            "metadata": {},
            "outputs": [],
            "source": "london_boroughs_sim_manhattan = london_boroughs.loc[london_boroughs['NY Similar Borough']=='Manhattan'].copy()"
        },
        {
            "cell_type": "code",
            "execution_count": 167,
            "metadata": {},
            "outputs": [],
            "source": "london_boroughs_sim_manhattan.reset_index(inplace=True, drop=True)"
        },
        {
            "cell_type": "code",
            "execution_count": 168,
            "metadata": {},
            "outputs": [
                {
                    "data": {
                        "text/html": "<div>\n<style scoped>\n    .dataframe tbody tr th:only-of-type {\n        vertical-align: middle;\n    }\n\n    .dataframe tbody tr th {\n        vertical-align: top;\n    }\n\n    .dataframe thead th {\n        text-align: right;\n    }\n</style>\n<table border=\"1\" class=\"dataframe\">\n  <thead>\n    <tr style=\"text-align: right;\">\n      <th></th>\n      <th>Borough</th>\n      <th>Latitude</th>\n      <th>Longitude</th>\n      <th>NY Similar Borough</th>\n    </tr>\n  </thead>\n  <tbody>\n    <tr>\n      <th>0</th>\n      <td>Barking and Dagenham</td>\n      <td>51.5607</td>\n      <td>0.1557</td>\n      <td>Manhattan</td>\n    </tr>\n    <tr>\n      <th>1</th>\n      <td>Bexley</td>\n      <td>51.4549</td>\n      <td>0.1505</td>\n      <td>Manhattan</td>\n    </tr>\n    <tr>\n      <th>2</th>\n      <td>Brent</td>\n      <td>51.5588</td>\n      <td>-0.2817</td>\n      <td>Manhattan</td>\n    </tr>\n    <tr>\n      <th>3</th>\n      <td>Bromley</td>\n      <td>51.4039</td>\n      <td>0.0198</td>\n      <td>Manhattan</td>\n    </tr>\n    <tr>\n      <th>4</th>\n      <td>Camden</td>\n      <td>51.5290</td>\n      <td>-0.1255</td>\n      <td>Manhattan</td>\n    </tr>\n    <tr>\n      <th>5</th>\n      <td>Croydon</td>\n      <td>51.3714</td>\n      <td>-0.0977</td>\n      <td>Manhattan</td>\n    </tr>\n    <tr>\n      <th>6</th>\n      <td>Ealing</td>\n      <td>51.5130</td>\n      <td>-0.3089</td>\n      <td>Manhattan</td>\n    </tr>\n    <tr>\n      <th>7</th>\n      <td>Enfield</td>\n      <td>51.6538</td>\n      <td>-0.0799</td>\n      <td>Manhattan</td>\n    </tr>\n    <tr>\n      <th>8</th>\n      <td>Greenwich</td>\n      <td>51.4892</td>\n      <td>0.0648</td>\n      <td>Manhattan</td>\n    </tr>\n    <tr>\n      <th>9</th>\n      <td>Hackney</td>\n      <td>51.5450</td>\n      <td>-0.0553</td>\n      <td>Manhattan</td>\n    </tr>\n    <tr>\n      <th>10</th>\n      <td>Hammersmith and Fulham</td>\n      <td>51.4927</td>\n      <td>-0.2339</td>\n      <td>Manhattan</td>\n    </tr>\n    <tr>\n      <th>11</th>\n      <td>Haringey</td>\n      <td>51.6000</td>\n      <td>-0.1119</td>\n      <td>Manhattan</td>\n    </tr>\n    <tr>\n      <th>12</th>\n      <td>Harrow</td>\n      <td>51.5898</td>\n      <td>-0.3346</td>\n      <td>Manhattan</td>\n    </tr>\n    <tr>\n      <th>13</th>\n      <td>Havering</td>\n      <td>51.5812</td>\n      <td>0.1837</td>\n      <td>Manhattan</td>\n    </tr>\n    <tr>\n      <th>14</th>\n      <td>Hounslow</td>\n      <td>51.4746</td>\n      <td>-0.3680</td>\n      <td>Manhattan</td>\n    </tr>\n    <tr>\n      <th>15</th>\n      <td>Islington</td>\n      <td>51.5416</td>\n      <td>-0.1022</td>\n      <td>Manhattan</td>\n    </tr>\n    <tr>\n      <th>16</th>\n      <td>Kensington and Chelsea</td>\n      <td>51.5020</td>\n      <td>-0.1947</td>\n      <td>Manhattan</td>\n    </tr>\n    <tr>\n      <th>17</th>\n      <td>Kingston upon Thames</td>\n      <td>51.4085</td>\n      <td>-0.3064</td>\n      <td>Manhattan</td>\n    </tr>\n    <tr>\n      <th>18</th>\n      <td>Lambeth</td>\n      <td>51.4607</td>\n      <td>-0.1163</td>\n      <td>Manhattan</td>\n    </tr>\n    <tr>\n      <th>19</th>\n      <td>Lewisham</td>\n      <td>51.4452</td>\n      <td>-0.0209</td>\n      <td>Manhattan</td>\n    </tr>\n    <tr>\n      <th>20</th>\n      <td>Merton</td>\n      <td>51.4014</td>\n      <td>-0.1958</td>\n      <td>Manhattan</td>\n    </tr>\n    <tr>\n      <th>21</th>\n      <td>Newham</td>\n      <td>51.5077</td>\n      <td>0.0469</td>\n      <td>Manhattan</td>\n    </tr>\n    <tr>\n      <th>22</th>\n      <td>Redbridge</td>\n      <td>51.5590</td>\n      <td>0.0741</td>\n      <td>Manhattan</td>\n    </tr>\n    <tr>\n      <th>23</th>\n      <td>Richmond upon Thames</td>\n      <td>51.4479</td>\n      <td>-0.3260</td>\n      <td>Manhattan</td>\n    </tr>\n    <tr>\n      <th>24</th>\n      <td>Southwark</td>\n      <td>51.5035</td>\n      <td>-0.0804</td>\n      <td>Manhattan</td>\n    </tr>\n    <tr>\n      <th>25</th>\n      <td>Sutton</td>\n      <td>51.3618</td>\n      <td>-0.1945</td>\n      <td>Manhattan</td>\n    </tr>\n    <tr>\n      <th>26</th>\n      <td>Tower Hamlets</td>\n      <td>51.5099</td>\n      <td>-0.0059</td>\n      <td>Manhattan</td>\n    </tr>\n    <tr>\n      <th>27</th>\n      <td>Waltham Forest</td>\n      <td>51.5908</td>\n      <td>-0.0134</td>\n      <td>Manhattan</td>\n    </tr>\n    <tr>\n      <th>28</th>\n      <td>Wandsworth</td>\n      <td>51.4567</td>\n      <td>-0.1910</td>\n      <td>Manhattan</td>\n    </tr>\n    <tr>\n      <th>29</th>\n      <td>Westminster</td>\n      <td>51.4973</td>\n      <td>-0.1372</td>\n      <td>Manhattan</td>\n    </tr>\n  </tbody>\n</table>\n</div>",
                        "text/plain": "                   Borough  Latitude  Longitude NY Similar Borough\n0     Barking and Dagenham   51.5607     0.1557          Manhattan\n1                   Bexley   51.4549     0.1505          Manhattan\n2                    Brent   51.5588    -0.2817          Manhattan\n3                  Bromley   51.4039     0.0198          Manhattan\n4                   Camden   51.5290    -0.1255          Manhattan\n5                  Croydon   51.3714    -0.0977          Manhattan\n6                   Ealing   51.5130    -0.3089          Manhattan\n7                  Enfield   51.6538    -0.0799          Manhattan\n8                Greenwich   51.4892     0.0648          Manhattan\n9                  Hackney   51.5450    -0.0553          Manhattan\n10  Hammersmith and Fulham   51.4927    -0.2339          Manhattan\n11                Haringey   51.6000    -0.1119          Manhattan\n12                  Harrow   51.5898    -0.3346          Manhattan\n13                Havering   51.5812     0.1837          Manhattan\n14                Hounslow   51.4746    -0.3680          Manhattan\n15               Islington   51.5416    -0.1022          Manhattan\n16  Kensington and Chelsea   51.5020    -0.1947          Manhattan\n17    Kingston upon Thames   51.4085    -0.3064          Manhattan\n18                 Lambeth   51.4607    -0.1163          Manhattan\n19                Lewisham   51.4452    -0.0209          Manhattan\n20                  Merton   51.4014    -0.1958          Manhattan\n21                  Newham   51.5077     0.0469          Manhattan\n22               Redbridge   51.5590     0.0741          Manhattan\n23    Richmond upon Thames   51.4479    -0.3260          Manhattan\n24               Southwark   51.5035    -0.0804          Manhattan\n25                  Sutton   51.3618    -0.1945          Manhattan\n26           Tower Hamlets   51.5099    -0.0059          Manhattan\n27          Waltham Forest   51.5908    -0.0134          Manhattan\n28              Wandsworth   51.4567    -0.1910          Manhattan\n29             Westminster   51.4973    -0.1372          Manhattan"
                    },
                    "execution_count": 168,
                    "metadata": {},
                    "output_type": "execute_result"
                }
            ],
            "source": "london_boroughs_sim_manhattan"
        },
        {
            "cell_type": "markdown",
            "metadata": {},
            "source": "Unfortunately, this hasn't narrowed things down too much"
        },
        {
            "cell_type": "markdown",
            "metadata": {},
            "source": "### Calculate distance to London office"
        },
        {
            "cell_type": "markdown",
            "metadata": {},
            "source": "Calculate the distance for each borough to the office"
        },
        {
            "cell_type": "markdown",
            "metadata": {},
            "source": "The current Google office in London can be found on Google Maps https://www.google.com/maps/place/Google+UK/@51.5332609,-0.1281919,17z/data=!3m1!4b1!4m5!3m4!1s0x48761b3c54efa6e1:0xc7053ab04745950d!8m2!3d51.5332609!4d-0.1260032\n\nRight clicking on the pop-up and clicking What's here reveal the longitude and latitude for the building Latitude = 51.5332609 Longitude = -0.1260032\n\nUsing the Longatude and Latitude in the London data set allows us to calculate the birdseye distance from the Borough to the office. We will then be able to sort our list of London Boroughs like Manhatten by this distance to give a shortlist of 3 London Boroughs which are most like Manhatten and are close to the Google office in London."
        },
        {
            "cell_type": "code",
            "execution_count": 173,
            "metadata": {},
            "outputs": [],
            "source": "office_lat = 51.5332609\noffice_long = -0.1260032"
        },
        {
            "cell_type": "code",
            "execution_count": 193,
            "metadata": {},
            "outputs": [],
            "source": "from math import sin, cos, sqrt, atan2, radians\n\n# approximate radius of earth in km\nR = 6373.0\n\n#office_latitude = 51.5332609, office_longitude = -0.1260032\noffice_lat = radians(51.5332609)\noffice_long = radians(-0.1260032)\n\n#Column vector of latitude and longitude in radians\nlat_v = london_boroughs_sim_manhattan['Latitude'].apply(lambda x: radians(x))\nlong_v = london_boroughs_sim_manhattan['Longitude'].apply(lambda x: radians(x))\n\n#Find the different in latitude and longitude \ndiff_lat_v = lat_v - office_lat\ndiff_long_v = long_v - office_long\n\nsin_diff_lat_v = diff_lat_v.apply(lambda x: sin(x / 2)**2)\ncos_office_lat = cos(office_lat)\ncos_lat_v = lat_v.apply(lambda x: cos(x))\nsin_diff_long_v = diff_long_v.apply(lambda x: sin(x / 2)**2)\n\na_v = sin_diff_lat_v + cos_office_lat*cos_lat_v*sin_diff_long_v\nc_v = a_v.apply(lambda x: 2*atan2(sqrt(x), sqrt(1 - x)))\n\ndistance_v = R * c_v"
        },
        {
            "cell_type": "code",
            "execution_count": 194,
            "metadata": {},
            "outputs": [
                {
                    "data": {
                        "text/plain": "0     19.723196\n1     21.038578\n2     11.138234\n3     17.581281\n4      0.475216\n5     18.110333\n6     12.856799\n7     13.780824\n8     14.088285\n9      5.062721\n10     8.725742\n11     7.487148\n12    15.735518\n13    22.071370\n14    17.980583\n15     1.890084\n16     5.890619\n17    18.676206\n18     8.098857\n19    12.203692\n20    15.443677\n21    12.299920\n22    14.134535\n23    16.792886\n24     4.573937\n25    19.653783\n26     8.708942\n27    10.079032\n28     9.632183\n29     4.074319\ndtype: float64"
                    },
                    "execution_count": 194,
                    "metadata": {},
                    "output_type": "execute_result"
                }
            ],
            "source": "distance_v"
        },
        {
            "cell_type": "markdown",
            "metadata": {},
            "source": "Add distance to office as a column to London Borough data"
        },
        {
            "cell_type": "code",
            "execution_count": 195,
            "metadata": {},
            "outputs": [],
            "source": "london_boroughs_sim_manhattan['Distance to office (km)'] = distance_v"
        },
        {
            "cell_type": "markdown",
            "metadata": {},
            "source": "### Choose top 3 potential best candidate Boroughs"
        },
        {
            "cell_type": "code",
            "execution_count": 197,
            "metadata": {},
            "outputs": [
                {
                    "data": {
                        "text/html": "<div>\n<style scoped>\n    .dataframe tbody tr th:only-of-type {\n        vertical-align: middle;\n    }\n\n    .dataframe tbody tr th {\n        vertical-align: top;\n    }\n\n    .dataframe thead th {\n        text-align: right;\n    }\n</style>\n<table border=\"1\" class=\"dataframe\">\n  <thead>\n    <tr style=\"text-align: right;\">\n      <th></th>\n      <th>Borough</th>\n      <th>Latitude</th>\n      <th>Longitude</th>\n      <th>NY Similar Borough</th>\n      <th>Distance to office (km)</th>\n    </tr>\n  </thead>\n  <tbody>\n    <tr>\n      <th>4</th>\n      <td>Camden</td>\n      <td>51.5290</td>\n      <td>-0.1255</td>\n      <td>Manhattan</td>\n      <td>0.475216</td>\n    </tr>\n    <tr>\n      <th>15</th>\n      <td>Islington</td>\n      <td>51.5416</td>\n      <td>-0.1022</td>\n      <td>Manhattan</td>\n      <td>1.890084</td>\n    </tr>\n    <tr>\n      <th>29</th>\n      <td>Westminster</td>\n      <td>51.4973</td>\n      <td>-0.1372</td>\n      <td>Manhattan</td>\n      <td>4.074319</td>\n    </tr>\n  </tbody>\n</table>\n</div>",
                        "text/plain": "        Borough  Latitude  Longitude NY Similar Borough  \\\n4        Camden   51.5290    -0.1255          Manhattan   \n15    Islington   51.5416    -0.1022          Manhattan   \n29  Westminster   51.4973    -0.1372          Manhattan   \n\n    Distance to office (km)  \n4                  0.475216  \n15                 1.890084  \n29                 4.074319  "
                    },
                    "execution_count": 197,
                    "metadata": {},
                    "output_type": "execute_result"
                }
            ],
            "source": "london_boroughs_sim_manhattan.sort_values('Distance to office (km)').head(3)"
        },
        {
            "cell_type": "markdown",
            "metadata": {},
            "source": "The 3 boroughs closest to the new office which are most similar to Manhattan are ***Camden, Islington and Westminster***"
        },
        {
            "cell_type": "markdown",
            "metadata": {},
            "source": "# Discussion"
        },
        {
            "cell_type": "markdown",
            "metadata": {},
            "source": "I found that using the KNN Classifier identified all except 2 of the London Boroughs as most similar to Manhattan. This did little reduce the number of Boroughs to consider, so in this particular problem it did little to help reduce the number of Boroughs to consider living in. There are some possible causes for this in the methodology used which could be changed in future. It could be due to the dimensions of the feature set used to train the model. The New York data had 468 features and 306 examples, this increases the likelihood of overfitting. It may be sensible to try to reduce the number of features using a technique such as Principle Component Analysis (PCA). "
        },
        {
            "cell_type": "markdown",
            "metadata": {},
            "source": "There were also a few other limitations of the methodology used to collect feature set data. It is worth noting that when collecting venues from the Foursquare API is limited to a maximum limit of 100 venue for each New York Neighbourhood and London Boroughs, there were several which met this limit of 100. This limit is due the limit of 50,500 daily API calls in Foursquares free developer account. This limit could be increased to ensure that all venues in each Neighbourhood/Borough is found to ensure the features have accounts for all venues. "
        },
        {
            "cell_type": "markdown",
            "metadata": {},
            "source": "It\u2019s also worth noting that venues from the Foursquare API are fetched based on the distance from the centre of New York neighbourhood/London borough. This is potentially flawed in 2 major ways, the radius used could fail to include all venues in a neighbourhood/borough and there is the potential for overlap between the radii of neighbourhoods/boroughs which could mean that a venue could appear in multiple neighbourhoods/boroughs. Perhaps a more robust approach could be to generate a large list of venues, and use zipcode/postcode data to classify which neighbourhoods/boroughs they belonged to avoid both missing venues and duplicate venues in multiple areas."
        },
        {
            "cell_type": "markdown",
            "metadata": {},
            "source": "# Conclusion"
        },
        {
            "cell_type": "markdown",
            "metadata": {},
            "source": "It appears that most London Boroughs (apart from Barnet and Hillingdon) are similar to Manhattan, so in terms of locations to consider relocating to London most are similar to London and should be suitable for our Data Scientist who wants to live somewhere like Manhattan. As such the primary factor in considering where to relocate to is going to be the distance from the office location. Consequently, the best 3 Boroughs to consider living in are Camden, Islington, and Westminster. This should help our Data Scientist to reduce the number of Boroughs to consider when moving to London."
        }
    ],
    "metadata": {
        "kernelspec": {
            "display_name": "Python 3.7",
            "language": "python",
            "name": "python3"
        },
        "language_info": {
            "codemirror_mode": {
                "name": "ipython",
                "version": 3
            },
            "file_extension": ".py",
            "mimetype": "text/x-python",
            "name": "python",
            "nbconvert_exporter": "python",
            "pygments_lexer": "ipython3",
            "version": "3.7.9"
        }
    },
    "nbformat": 4,
    "nbformat_minor": 1
}
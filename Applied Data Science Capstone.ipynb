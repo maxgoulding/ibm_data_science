{
    "cells": [
        {
            "cell_type": "markdown",
            "metadata": {
                "collapsed": true
            },
            "source": "# Introduction/Business Problem - A description of the problem and a discussion of the background"
        },
        {
            "cell_type": "markdown",
            "metadata": {},
            "source": "Previoulsy in the Applied Data Science Capstone project we compared neighbourhoods within both New York and Toronto. In this project we are going to compare neighbourhoods between 2 different cities - New York, USA and London, UK\n\nIn New York there are 306 different neighbourhoods across 5 different boroughs. There are similarities between the neighbourhoods within each of these boroughs.\n\nIn particular, I want to be able to compare area from another city to decide which borough that area is most similar to. For example, is Toronto's Scarbourgh Village neighbourhood most similar to neighbourhoods found in the Bronx, Brooklyn, Manhatten, Queens or Staten Island boroughs in New York.\n\nAs I am from UK, I will be comparing area in London, UK to New York, USA."
        },
        {
            "cell_type": "markdown",
            "metadata": {},
            "source": "<em> Scenario </em>\n\nImagine I am a Data Scientist who currently works for Google in New York, work at the Google offices in New York which are based Chelsea, Manhatten and live in the borough of Manhatten.\n\nI have recently been asked to relocate for work to Google's offices near Kings Cross in London, UK. However I currently know nothing about London or what it is like as a place to live. Before deciding where I would like to move to, I would like to first narrow down my options. \n\nEven though I don't know anything about London I know that I enjoy living in the Manhatten area of New York and would therefore like to know what areas of London are most similar to Manhatten by using available Foursquare API data. In addition, I'd also not like to be too far from my office near Kings Cross.\n\nWe first look at all areas of London to establish which New York boroughs they are most similar to. Then from the areas which are most similar to Manhatten, we will then establish how far from the new Google offices near King Cross they are to establish a shortlist of 3 areas I should consider living in when I moved to London."
        },
        {
            "cell_type": "markdown",
            "metadata": {},
            "source": "<em> Notes </em>\n\nThis could be a comparison of any two cities where the data is readily available. London and New York are just a demonstation of it being successfully applied.\n\nMoreover, this general idea could be used in a different context, for example a business that has many succesful stores in Manhatten that is looking to expand to London and is unsure of the best area to locate itself."
        },
        {
            "cell_type": "markdown",
            "metadata": {},
            "source": "# Data - A description of the data and how it will be used to solve the problem"
        },
        {
            "cell_type": "markdown",
            "metadata": {},
            "source": "### New York Neighbourhood Data\n\nThe data for New York's borough and neighbourhood data will come from, used in the previous practicals in the Applied Data Science Capstone\n\nhttps://cf-courses-data.s3.us.cloud-object-storage.appdomain.cloud/IBMDeveloperSkillsNetwork-DS0701EN-SkillsNetwork/labs/newyork_data.json\n\nThis dataset contains every Neighboorhood in New York, the borough they are in as well as their longitude and latitude.\n\nThe dataframe has 5 boroughs and 306 neighborhoods."
        },
        {
            "cell_type": "markdown",
            "metadata": {},
            "source": "Data scraped from\nhttps://en.wikipedia.org/wiki/Boroughs_of_New_York_City"
        },
        {
            "cell_type": "code",
            "execution_count": 78,
            "metadata": {},
            "outputs": [
                {
                    "name": "stdout",
                    "output_type": "stream",
                    "text": "Total population of New York : 8336817\nAverage population of New York Borough: 1667363.4\nAverage population of New York Neighbourhood : 27244.5\n"
                },
                {
                    "data": {
                        "text/html": "<div>\n<style scoped>\n    .dataframe tbody tr th:only-of-type {\n        vertical-align: middle;\n    }\n\n    .dataframe tbody tr th {\n        vertical-align: top;\n    }\n\n    .dataframe thead th {\n        text-align: right;\n    }\n</style>\n<table border=\"1\" class=\"dataframe\">\n  <thead>\n    <tr style=\"text-align: right;\">\n      <th></th>\n      <th>Borough</th>\n      <th>Population Estimate (2019)</th>\n    </tr>\n  </thead>\n  <tbody>\n    <tr>\n      <th>0</th>\n      <td>The Bronx</td>\n      <td>1418207</td>\n    </tr>\n    <tr>\n      <th>1</th>\n      <td>Brooklyn</td>\n      <td>2559903</td>\n    </tr>\n    <tr>\n      <th>2</th>\n      <td>Manhattan</td>\n      <td>1628706</td>\n    </tr>\n    <tr>\n      <th>3</th>\n      <td>Queens</td>\n      <td>2253858</td>\n    </tr>\n    <tr>\n      <th>4</th>\n      <td>Staten Island</td>\n      <td>476143</td>\n    </tr>\n  </tbody>\n</table>\n</div>",
                        "text/plain": "         Borough Population Estimate (2019)\n0      The Bronx                    1418207\n1       Brooklyn                    2559903\n2      Manhattan                    1628706\n3         Queens                    2253858\n4  Staten Island                     476143"
                    },
                    "execution_count": 78,
                    "metadata": {},
                    "output_type": "execute_result"
                }
            ],
            "source": "import pandas as pd\n\ndf = pd.read_html('https://en.wikipedia.org/wiki/Boroughs_of_New_York_City')\n\n#Select correct dataframe (0th) from list of dataframes\ndf = df[0]\n\n#Drop multiindex names from columns\ndf.columns = df.columns.droplevel().droplevel()\n\n#Remove bottom 2 rows as summary and comments\ndf = df[:-3]\n\n#Rename columns as population estimte\ndf.rename(columns={'Estimate (2019)[3]':'Population Estimate (2019)'}, inplace=True)\n\nprint('Total population of New York : '+ str(df['Population Estimate (2019)'].astype(int).sum()))\nprint('Average population of New York Borough: '+ str(df['Population Estimate (2019)'].astype(int).mean()))\n#Divide total population by number of neighbourhoods\nprint('Average population of New York Neighbourhood : '+ str(df['Population Estimate (2019)'].astype(int).sum()/306))\n\n#Show the relevent columns\ndf[['Borough', 'Population Estimate (2019)']]"
        },
        {
            "cell_type": "markdown",
            "metadata": {},
            "source": "<strong> The population of each of these boroughs is approximately 1,700,000 people per borough \n\nThe population of each of these boroughs is approximately 27,000 people per neighbourhood</strong>"
        },
        {
            "cell_type": "markdown",
            "metadata": {},
            "source": "### London Borough Data\n\nThe data for Londons boroughs and data will come from data scraped from wikipedia (like we did with Toronto)\n\nhttps://en.wikipedia.org/wiki/List_of_London_boroughs\n\nThis dataset contains every Borough in London as well as the longitude and latitude coordinate (which has to be wrangled into the correct form). There are other features which are not required\n\nThe dataframe has 32 boroughs (and we do not include the City of London, as it is not a borough)"
        },
        {
            "cell_type": "markdown",
            "metadata": {},
            "source": "Data scraped from https://en.wikipedia.org/wiki/List_of_London_boroughs"
        },
        {
            "cell_type": "code",
            "execution_count": 76,
            "metadata": {},
            "outputs": [
                {
                    "name": "stdout",
                    "output_type": "stream",
                    "text": "Total population of London : 8408887\nAverage population of London Borough: 262777.71875\n"
                },
                {
                    "data": {
                        "text/html": "<div>\n<style scoped>\n    .dataframe tbody tr th:only-of-type {\n        vertical-align: middle;\n    }\n\n    .dataframe tbody tr th {\n        vertical-align: top;\n    }\n\n    .dataframe thead th {\n        text-align: right;\n    }\n</style>\n<table border=\"1\" class=\"dataframe\">\n  <thead>\n    <tr style=\"text-align: right;\">\n      <th></th>\n      <th>Borough</th>\n      <th>Population Estimate (2013)</th>\n    </tr>\n  </thead>\n  <tbody>\n    <tr>\n      <th>0</th>\n      <td>Barking and Dagenham [note 1]</td>\n      <td>194352</td>\n    </tr>\n    <tr>\n      <th>1</th>\n      <td>Barnet</td>\n      <td>369088</td>\n    </tr>\n    <tr>\n      <th>2</th>\n      <td>Bexley</td>\n      <td>236687</td>\n    </tr>\n    <tr>\n      <th>3</th>\n      <td>Brent</td>\n      <td>317264</td>\n    </tr>\n    <tr>\n      <th>4</th>\n      <td>Bromley</td>\n      <td>317899</td>\n    </tr>\n    <tr>\n      <th>5</th>\n      <td>Camden</td>\n      <td>229719</td>\n    </tr>\n    <tr>\n      <th>6</th>\n      <td>Croydon</td>\n      <td>372752</td>\n    </tr>\n    <tr>\n      <th>7</th>\n      <td>Ealing</td>\n      <td>342494</td>\n    </tr>\n    <tr>\n      <th>8</th>\n      <td>Enfield</td>\n      <td>320524</td>\n    </tr>\n    <tr>\n      <th>9</th>\n      <td>Greenwich [note 2]</td>\n      <td>264008</td>\n    </tr>\n    <tr>\n      <th>10</th>\n      <td>Hackney</td>\n      <td>257379</td>\n    </tr>\n    <tr>\n      <th>11</th>\n      <td>Hammersmith and Fulham [note 4]</td>\n      <td>178685</td>\n    </tr>\n    <tr>\n      <th>12</th>\n      <td>Haringey</td>\n      <td>263386</td>\n    </tr>\n    <tr>\n      <th>13</th>\n      <td>Harrow</td>\n      <td>243372</td>\n    </tr>\n    <tr>\n      <th>14</th>\n      <td>Havering</td>\n      <td>242080</td>\n    </tr>\n    <tr>\n      <th>15</th>\n      <td>Hillingdon</td>\n      <td>286806</td>\n    </tr>\n    <tr>\n      <th>16</th>\n      <td>Hounslow</td>\n      <td>262407</td>\n    </tr>\n    <tr>\n      <th>17</th>\n      <td>Islington</td>\n      <td>215667</td>\n    </tr>\n    <tr>\n      <th>18</th>\n      <td>Kensington and Chelsea</td>\n      <td>155594</td>\n    </tr>\n    <tr>\n      <th>19</th>\n      <td>Kingston upon Thames</td>\n      <td>166793</td>\n    </tr>\n    <tr>\n      <th>20</th>\n      <td>Lambeth</td>\n      <td>314242</td>\n    </tr>\n    <tr>\n      <th>21</th>\n      <td>Lewisham</td>\n      <td>286180</td>\n    </tr>\n    <tr>\n      <th>22</th>\n      <td>Merton</td>\n      <td>203223</td>\n    </tr>\n    <tr>\n      <th>23</th>\n      <td>Newham</td>\n      <td>318227</td>\n    </tr>\n    <tr>\n      <th>24</th>\n      <td>Redbridge</td>\n      <td>288272</td>\n    </tr>\n    <tr>\n      <th>25</th>\n      <td>Richmond upon Thames</td>\n      <td>191365</td>\n    </tr>\n    <tr>\n      <th>26</th>\n      <td>Southwark</td>\n      <td>298464</td>\n    </tr>\n    <tr>\n      <th>27</th>\n      <td>Sutton</td>\n      <td>195914</td>\n    </tr>\n    <tr>\n      <th>28</th>\n      <td>Tower Hamlets</td>\n      <td>272890</td>\n    </tr>\n    <tr>\n      <th>29</th>\n      <td>Waltham Forest</td>\n      <td>265797</td>\n    </tr>\n    <tr>\n      <th>30</th>\n      <td>Wandsworth</td>\n      <td>310516</td>\n    </tr>\n    <tr>\n      <th>31</th>\n      <td>Westminster</td>\n      <td>226841</td>\n    </tr>\n  </tbody>\n</table>\n</div>",
                        "text/plain": "                            Borough  Population Estimate (2013)\n0     Barking and Dagenham [note 1]                      194352\n1                            Barnet                      369088\n2                            Bexley                      236687\n3                             Brent                      317264\n4                           Bromley                      317899\n5                            Camden                      229719\n6                           Croydon                      372752\n7                            Ealing                      342494\n8                           Enfield                      320524\n9                Greenwich [note 2]                      264008\n10                          Hackney                      257379\n11  Hammersmith and Fulham [note 4]                      178685\n12                         Haringey                      263386\n13                           Harrow                      243372\n14                         Havering                      242080\n15                       Hillingdon                      286806\n16                         Hounslow                      262407\n17                        Islington                      215667\n18           Kensington and Chelsea                      155594\n19             Kingston upon Thames                      166793\n20                          Lambeth                      314242\n21                         Lewisham                      286180\n22                           Merton                      203223\n23                           Newham                      318227\n24                        Redbridge                      288272\n25             Richmond upon Thames                      191365\n26                        Southwark                      298464\n27                           Sutton                      195914\n28                    Tower Hamlets                      272890\n29                   Waltham Forest                      265797\n30                       Wandsworth                      310516\n31                      Westminster                      226841"
                    },
                    "execution_count": 76,
                    "metadata": {},
                    "output_type": "execute_result"
                }
            ],
            "source": "df2 = pd.read_html('https://en.wikipedia.org/wiki/List_of_London_boroughs')\n\n#Select correct dataframe (0th) from list of dataframes\ndf2 = df2[0]\n\n#Rename columns as population estimte\ndf2.rename(columns={'Population (2013 est)[1]':'Population Estimate (2013)'}, inplace=True)\n\nprint('Total population of London : '+str(df2['Population Estimate (2013)'].sum()))\nprint('Average population of London Borough: '+str(df2['Population Estimate (2013)'].mean()))\n\n#Show the relevent columns\ndf2[['Borough', 'Population Estimate (2013)']]"
        },
        {
            "cell_type": "markdown",
            "metadata": {},
            "source": "<strong>The population of each of these boroughs is approximately 260,000 people per borough</strong>"
        },
        {
            "cell_type": "markdown",
            "metadata": {},
            "source": "### New York 'Boroughs' and London 'Boroughs' are not the same - would be like comparing apples and oranges"
        },
        {
            "cell_type": "markdown",
            "metadata": {},
            "source": "We can see by comparing average population sizes of New York 'boroughs' and London 'boroughs' that they are not the same size as one another. In particular, a New York borough has approximately 6 to 7 times the population of a London Borough (~1,700,000 and ~260,000 respectively). As such, the boroughs are not comparable. A New York borough is larger than than a London borough.\n\nHowever, we can also that we can see by comparing average population sizes of a New York neighbourhoods and London boroughs they are not the same size as one another. In particular, a London borough has approximately 10 times the population of a New York Borough (~260,000 and ~27,000 respectively). A London Borough is larger than than a New York Borough.\n\nIn particular, it worth noting that a London Borough is somewhere in between the size of a New York neighbourhood and borough. Consequently, It will be crucial to normalise features to allow for fair comparison."
        },
        {
            "cell_type": "markdown",
            "metadata": {},
            "source": "### Similarity data - Foursquare API"
        },
        {
            "cell_type": "markdown",
            "metadata": {},
            "source": "We will be utilizing the Foursquare API to establish the features of the neighborhoods in New York. We will collect the types of venues within each neighbourhood. We also use the Foursquare API to establish the features of Boroughs in London. We will collect the types of venues within each borough.\n\nTo encode a venue list from the Foursquare API into features we will use one-hot encoding over the venues type in both London Boroughs and New York neighbourhoods, this will ensure features between the two data sets are the same (crucial for comparison later). \n\nAfter one-hot encoding, we then want to group by New York Neighbourhood and London Boroughs by taking the mean of the frequency of occurrence of each category, to normalise features. We can call this data our feature space (X)\n\nAt this point we should clearly label our New York Neighbourhood data for train and cross-validation data and London Borough data as test data (X_test).\n\nTo the New York Neighbourhood feautre data from Foursquare (X) we can add New York Borough labels which have been given an numerical encoding (y), as well splitting it into train (X_train, y_train) and cross-validation datasets (X_cv, y_cv)\n(stratified by Borough, 80% - train and 20% Cross Validation).\n\nI then to use the K-Nearest Neighbour Classification model on the New York Neighbourhood data with Borough label to train a Borough classification model.\n(i.e. given a Neighbourhoods features it should be able to classify what Borough it belongs to)\n\nWe will use the 20% cross-validation set from New York data to establish the best value for K (the number of nearest neighbours), by finding the best accuracy for a range of possible K values.\n\nI will then use the test data for London Boroughs to classify them according to what New York Boroughs they are most similar to.\n\nThen it simple to restrict data to London Boroughs most similar to Manhatten."
        },
        {
            "cell_type": "markdown",
            "metadata": {},
            "source": "### Distance from new Office"
        },
        {
            "cell_type": "markdown",
            "metadata": {},
            "source": "The current Google office in London can be found on Google Maps\nhttps://www.google.com/maps/place/Google+UK/@51.5332609,-0.1281919,17z/data=!3m1!4b1!4m5!3m4!1s0x48761b3c54efa6e1:0xc7053ab04745950d!8m2!3d51.5332609!4d-0.1260032\n\nRight clicking on the pop-up and clicking What's here reveal the longitude and latitude for the building\nLatitude = 51.5332609\nLongitude = -0.1260032\n\nUsing the Longatude and Latitude in the London data set allows us to calculate the birdseye distance from the Borough to the office. We will then be able to sort our list of London Boroughs like Manhatten by this distance to give a shortlist of 3 London Boroughs which are most like Manhatten and are close to the Google office in London."
        }
    ],
    "metadata": {
        "kernelspec": {
            "display_name": "Python 3.7",
            "language": "python",
            "name": "python3"
        },
        "language_info": {
            "codemirror_mode": {
                "name": "ipython",
                "version": 3
            },
            "file_extension": ".py",
            "mimetype": "text/x-python",
            "name": "python",
            "nbconvert_exporter": "python",
            "pygments_lexer": "ipython3",
            "version": "3.7.9"
        }
    },
    "nbformat": 4,
    "nbformat_minor": 1
}